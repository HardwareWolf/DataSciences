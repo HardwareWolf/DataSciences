{
  "nbformat": 4,
  "nbformat_minor": 0,
  "metadata": {
    "kernelspec": {
      "display_name": "Python 3",
      "language": "python",
      "name": "python3"
    },
    "language_info": {
      "codemirror_mode": {
        "name": "ipython",
        "version": 3
      },
      "file_extension": ".py",
      "mimetype": "text/x-python",
      "name": "python",
      "nbconvert_exporter": "python",
      "pygments_lexer": "ipython3",
      "version": "3.7.6"
    },
    "colab": {
      "name": "Anomaly Detection - Credit Card Fraud Analysis.ipynb",
      "provenance": [],
      "collapsed_sections": [],
      "toc_visible": true
    }
  },
  "cells": [
    {
      "cell_type": "markdown",
      "metadata": {
        "id": "qh0myGZM3lA2",
        "colab_type": "text"
      },
      "source": [
        "# Import Libs"
      ]
    },
    {
      "cell_type": "code",
      "metadata": {
        "id": "eWsqmDjj3xP1",
        "colab_type": "code",
        "colab": {
          "base_uri": "https://localhost:8080/",
          "height": 267
        },
        "outputId": "7cc3114b-1f39-4b5b-cd14-625dbc19381f"
      },
      "source": [
        "!pip3 install chart_studio"
      ],
      "execution_count": 3,
      "outputs": [
        {
          "output_type": "stream",
          "text": [
            "Collecting chart_studio\n",
            "\u001b[?25l  Downloading https://files.pythonhosted.org/packages/ca/ce/330794a6b6ca4b9182c38fc69dd2a9cbff60fd49421cb8648ee5fee352dc/chart_studio-1.1.0-py3-none-any.whl (64kB)\n",
            "\r\u001b[K     |█████                           | 10kB 17.3MB/s eta 0:00:01\r\u001b[K     |██████████▏                     | 20kB 2.2MB/s eta 0:00:01\r\u001b[K     |███████████████▎                | 30kB 2.6MB/s eta 0:00:01\r\u001b[K     |████████████████████▍           | 40kB 2.1MB/s eta 0:00:01\r\u001b[K     |█████████████████████████▍      | 51kB 2.3MB/s eta 0:00:01\r\u001b[K     |██████████████████████████████▌ | 61kB 2.7MB/s eta 0:00:01\r\u001b[K     |████████████████████████████████| 71kB 2.5MB/s \n",
            "\u001b[?25hRequirement already satisfied: six in /usr/local/lib/python3.6/dist-packages (from chart_studio) (1.12.0)\n",
            "Requirement already satisfied: requests in /usr/local/lib/python3.6/dist-packages (from chart_studio) (2.21.0)\n",
            "Requirement already satisfied: retrying>=1.3.3 in /usr/local/lib/python3.6/dist-packages (from chart_studio) (1.3.3)\n",
            "Requirement already satisfied: plotly in /usr/local/lib/python3.6/dist-packages (from chart_studio) (4.4.1)\n",
            "Requirement already satisfied: chardet<3.1.0,>=3.0.2 in /usr/local/lib/python3.6/dist-packages (from requests->chart_studio) (3.0.4)\n",
            "Requirement already satisfied: idna<2.9,>=2.5 in /usr/local/lib/python3.6/dist-packages (from requests->chart_studio) (2.8)\n",
            "Requirement already satisfied: urllib3<1.25,>=1.21.1 in /usr/local/lib/python3.6/dist-packages (from requests->chart_studio) (1.24.3)\n",
            "Requirement already satisfied: certifi>=2017.4.17 in /usr/local/lib/python3.6/dist-packages (from requests->chart_studio) (2020.4.5.1)\n",
            "Installing collected packages: chart-studio\n",
            "Successfully installed chart-studio-1.1.0\n"
          ],
          "name": "stdout"
        }
      ]
    },
    {
      "cell_type": "code",
      "metadata": {
        "id": "nOvCWbq03K6H",
        "colab_type": "code",
        "colab": {}
      },
      "source": [
        "import numpy as np\n",
        "import pandas as pd\n",
        "import sklearn\n",
        "import scipy\n",
        "import matplotlib.pyplot as plt\n",
        "import seaborn as sns\n",
        "from sklearn.metrics import classification_report,accuracy_score\n",
        "from sklearn.ensemble import IsolationForest\n",
        "from sklearn.neighbors import LocalOutlierFactor\n",
        "from sklearn.svm import OneClassSVM\n",
        "from pylab import rcParams\n",
        "rcParams['figure.figsize'] = 14, 8\n",
        "RANDOM_SEED = 420\n",
        "LABELS = [\"Normal\", \"Fraud\"]\n",
        "import chart_studio.plotly as py\n",
        "import plotly.graph_objs as go\n",
        "import plotly\n",
        "import plotly.figure_factory as ff\n",
        "from plotly.offline import init_notebook_mode, iplot"
      ],
      "execution_count": 0,
      "outputs": []
    },
    {
      "cell_type": "markdown",
      "metadata": {
        "id": "eLyn3eC43RGS",
        "colab_type": "text"
      },
      "source": [
        "# Mount GDrive"
      ]
    },
    {
      "cell_type": "code",
      "metadata": {
        "id": "UKW4HwR73XNz",
        "colab_type": "code",
        "colab": {
          "base_uri": "https://localhost:8080/",
          "height": 125
        },
        "outputId": "97f19893-cbe4-4091-e11a-be2df723617c"
      },
      "source": [
        "from google.colab import drive\n",
        "drive.mount('/content/drive')"
      ],
      "execution_count": 5,
      "outputs": [
        {
          "output_type": "stream",
          "text": [
            "Go to this URL in a browser: https://accounts.google.com/o/oauth2/auth?client_id=947318989803-6bn6qk8qdgf4n4g3pfee6491hc0brc4i.apps.googleusercontent.com&redirect_uri=urn%3aietf%3awg%3aoauth%3a2.0%3aoob&response_type=code&scope=email%20https%3a%2f%2fwww.googleapis.com%2fauth%2fdocs.test%20https%3a%2f%2fwww.googleapis.com%2fauth%2fdrive%20https%3a%2f%2fwww.googleapis.com%2fauth%2fdrive.photos.readonly%20https%3a%2f%2fwww.googleapis.com%2fauth%2fpeopleapi.readonly\n",
            "\n",
            "Enter your authorization code:\n",
            "··········\n",
            "Mounted at /content/drive\n"
          ],
          "name": "stdout"
        }
      ]
    },
    {
      "cell_type": "markdown",
      "metadata": {
        "id": "VXopnEfi3cBM",
        "colab_type": "text"
      },
      "source": [
        "# Change current working directory to project folder"
      ]
    },
    {
      "cell_type": "code",
      "metadata": {
        "id": "FGHYtlTh3bwa",
        "colab_type": "code",
        "colab": {}
      },
      "source": [
        "import os\n",
        "os.chdir('/content/drive/My Drive/Data Sciences/Credit Card Fraud Detection')"
      ],
      "execution_count": 0,
      "outputs": []
    },
    {
      "cell_type": "code",
      "metadata": {
        "id": "WqcuXpR33K6N",
        "colab_type": "code",
        "colab": {
          "base_uri": "https://localhost:8080/",
          "height": 105
        },
        "outputId": "daa24b70-6b77-4d8d-f2ee-97dcd9e8a78a"
      },
      "source": [
        "data = pd.read_csv('input/creditcard.csv',sep=',')\n",
        "\n",
        "print(data.columns)"
      ],
      "execution_count": 9,
      "outputs": [
        {
          "output_type": "stream",
          "text": [
            "Index(['Time', 'V1', 'V2', 'V3', 'V4', 'V5', 'V6', 'V7', 'V8', 'V9', 'V10',\n",
            "       'V11', 'V12', 'V13', 'V14', 'V15', 'V16', 'V17', 'V18', 'V19', 'V20',\n",
            "       'V21', 'V22', 'V23', 'V24', 'V25', 'V26', 'V27', 'V28', 'Amount',\n",
            "       'Class'],\n",
            "      dtype='object')\n"
          ],
          "name": "stdout"
        }
      ]
    },
    {
      "cell_type": "code",
      "metadata": {
        "id": "69G2FR-z3K6R",
        "colab_type": "code",
        "colab": {
          "base_uri": "https://localhost:8080/",
          "height": 34
        },
        "outputId": "7d7fe3a4-8b9b-4280-ed87-4782470d9486"
      },
      "source": [
        "data1= data.sample(frac = 0.1,random_state=1)\n",
        "\n",
        "data1.shape"
      ],
      "execution_count": 10,
      "outputs": [
        {
          "output_type": "execute_result",
          "data": {
            "text/plain": [
              "(28481, 31)"
            ]
          },
          "metadata": {
            "tags": []
          },
          "execution_count": 10
        }
      ]
    },
    {
      "cell_type": "code",
      "metadata": {
        "id": "oCcGNAzf4P97",
        "colab_type": "code",
        "colab": {
          "base_uri": "https://localhost:8080/",
          "height": 307
        },
        "outputId": "9df3a8bf-aea1-45fd-fa17-3e25f952919e"
      },
      "source": [
        "data.describe()"
      ],
      "execution_count": 11,
      "outputs": [
        {
          "output_type": "execute_result",
          "data": {
            "text/html": [
              "<div>\n",
              "<style scoped>\n",
              "    .dataframe tbody tr th:only-of-type {\n",
              "        vertical-align: middle;\n",
              "    }\n",
              "\n",
              "    .dataframe tbody tr th {\n",
              "        vertical-align: top;\n",
              "    }\n",
              "\n",
              "    .dataframe thead th {\n",
              "        text-align: right;\n",
              "    }\n",
              "</style>\n",
              "<table border=\"1\" class=\"dataframe\">\n",
              "  <thead>\n",
              "    <tr style=\"text-align: right;\">\n",
              "      <th></th>\n",
              "      <th>Time</th>\n",
              "      <th>V1</th>\n",
              "      <th>V2</th>\n",
              "      <th>V3</th>\n",
              "      <th>V4</th>\n",
              "      <th>V5</th>\n",
              "      <th>V6</th>\n",
              "      <th>V7</th>\n",
              "      <th>V8</th>\n",
              "      <th>V9</th>\n",
              "      <th>V10</th>\n",
              "      <th>V11</th>\n",
              "      <th>V12</th>\n",
              "      <th>V13</th>\n",
              "      <th>V14</th>\n",
              "      <th>V15</th>\n",
              "      <th>V16</th>\n",
              "      <th>V17</th>\n",
              "      <th>V18</th>\n",
              "      <th>V19</th>\n",
              "      <th>V20</th>\n",
              "      <th>V21</th>\n",
              "      <th>V22</th>\n",
              "      <th>V23</th>\n",
              "      <th>V24</th>\n",
              "      <th>V25</th>\n",
              "      <th>V26</th>\n",
              "      <th>V27</th>\n",
              "      <th>V28</th>\n",
              "      <th>Amount</th>\n",
              "      <th>Class</th>\n",
              "    </tr>\n",
              "  </thead>\n",
              "  <tbody>\n",
              "    <tr>\n",
              "      <th>count</th>\n",
              "      <td>284807.000000</td>\n",
              "      <td>2.848070e+05</td>\n",
              "      <td>2.848070e+05</td>\n",
              "      <td>2.848070e+05</td>\n",
              "      <td>2.848070e+05</td>\n",
              "      <td>2.848070e+05</td>\n",
              "      <td>2.848070e+05</td>\n",
              "      <td>2.848070e+05</td>\n",
              "      <td>2.848070e+05</td>\n",
              "      <td>2.848070e+05</td>\n",
              "      <td>2.848070e+05</td>\n",
              "      <td>2.848070e+05</td>\n",
              "      <td>2.848070e+05</td>\n",
              "      <td>2.848070e+05</td>\n",
              "      <td>2.848070e+05</td>\n",
              "      <td>2.848070e+05</td>\n",
              "      <td>2.848070e+05</td>\n",
              "      <td>2.848070e+05</td>\n",
              "      <td>2.848070e+05</td>\n",
              "      <td>2.848070e+05</td>\n",
              "      <td>2.848070e+05</td>\n",
              "      <td>2.848070e+05</td>\n",
              "      <td>2.848070e+05</td>\n",
              "      <td>2.848070e+05</td>\n",
              "      <td>2.848070e+05</td>\n",
              "      <td>2.848070e+05</td>\n",
              "      <td>2.848070e+05</td>\n",
              "      <td>2.848070e+05</td>\n",
              "      <td>2.848070e+05</td>\n",
              "      <td>284807.000000</td>\n",
              "      <td>284807.000000</td>\n",
              "    </tr>\n",
              "    <tr>\n",
              "      <th>mean</th>\n",
              "      <td>94813.859575</td>\n",
              "      <td>3.919560e-15</td>\n",
              "      <td>5.688174e-16</td>\n",
              "      <td>-8.769071e-15</td>\n",
              "      <td>2.782312e-15</td>\n",
              "      <td>-1.552563e-15</td>\n",
              "      <td>2.010663e-15</td>\n",
              "      <td>-1.694249e-15</td>\n",
              "      <td>-1.927028e-16</td>\n",
              "      <td>-3.137024e-15</td>\n",
              "      <td>1.768627e-15</td>\n",
              "      <td>9.170318e-16</td>\n",
              "      <td>-1.810658e-15</td>\n",
              "      <td>1.693438e-15</td>\n",
              "      <td>1.479045e-15</td>\n",
              "      <td>3.482336e-15</td>\n",
              "      <td>1.392007e-15</td>\n",
              "      <td>-7.528491e-16</td>\n",
              "      <td>4.328772e-16</td>\n",
              "      <td>9.049732e-16</td>\n",
              "      <td>5.085503e-16</td>\n",
              "      <td>1.537294e-16</td>\n",
              "      <td>7.959909e-16</td>\n",
              "      <td>5.367590e-16</td>\n",
              "      <td>4.458112e-15</td>\n",
              "      <td>1.453003e-15</td>\n",
              "      <td>1.699104e-15</td>\n",
              "      <td>-3.660161e-16</td>\n",
              "      <td>-1.206049e-16</td>\n",
              "      <td>88.349619</td>\n",
              "      <td>0.001727</td>\n",
              "    </tr>\n",
              "    <tr>\n",
              "      <th>std</th>\n",
              "      <td>47488.145955</td>\n",
              "      <td>1.958696e+00</td>\n",
              "      <td>1.651309e+00</td>\n",
              "      <td>1.516255e+00</td>\n",
              "      <td>1.415869e+00</td>\n",
              "      <td>1.380247e+00</td>\n",
              "      <td>1.332271e+00</td>\n",
              "      <td>1.237094e+00</td>\n",
              "      <td>1.194353e+00</td>\n",
              "      <td>1.098632e+00</td>\n",
              "      <td>1.088850e+00</td>\n",
              "      <td>1.020713e+00</td>\n",
              "      <td>9.992014e-01</td>\n",
              "      <td>9.952742e-01</td>\n",
              "      <td>9.585956e-01</td>\n",
              "      <td>9.153160e-01</td>\n",
              "      <td>8.762529e-01</td>\n",
              "      <td>8.493371e-01</td>\n",
              "      <td>8.381762e-01</td>\n",
              "      <td>8.140405e-01</td>\n",
              "      <td>7.709250e-01</td>\n",
              "      <td>7.345240e-01</td>\n",
              "      <td>7.257016e-01</td>\n",
              "      <td>6.244603e-01</td>\n",
              "      <td>6.056471e-01</td>\n",
              "      <td>5.212781e-01</td>\n",
              "      <td>4.822270e-01</td>\n",
              "      <td>4.036325e-01</td>\n",
              "      <td>3.300833e-01</td>\n",
              "      <td>250.120109</td>\n",
              "      <td>0.041527</td>\n",
              "    </tr>\n",
              "    <tr>\n",
              "      <th>min</th>\n",
              "      <td>0.000000</td>\n",
              "      <td>-5.640751e+01</td>\n",
              "      <td>-7.271573e+01</td>\n",
              "      <td>-4.832559e+01</td>\n",
              "      <td>-5.683171e+00</td>\n",
              "      <td>-1.137433e+02</td>\n",
              "      <td>-2.616051e+01</td>\n",
              "      <td>-4.355724e+01</td>\n",
              "      <td>-7.321672e+01</td>\n",
              "      <td>-1.343407e+01</td>\n",
              "      <td>-2.458826e+01</td>\n",
              "      <td>-4.797473e+00</td>\n",
              "      <td>-1.868371e+01</td>\n",
              "      <td>-5.791881e+00</td>\n",
              "      <td>-1.921433e+01</td>\n",
              "      <td>-4.498945e+00</td>\n",
              "      <td>-1.412985e+01</td>\n",
              "      <td>-2.516280e+01</td>\n",
              "      <td>-9.498746e+00</td>\n",
              "      <td>-7.213527e+00</td>\n",
              "      <td>-5.449772e+01</td>\n",
              "      <td>-3.483038e+01</td>\n",
              "      <td>-1.093314e+01</td>\n",
              "      <td>-4.480774e+01</td>\n",
              "      <td>-2.836627e+00</td>\n",
              "      <td>-1.029540e+01</td>\n",
              "      <td>-2.604551e+00</td>\n",
              "      <td>-2.256568e+01</td>\n",
              "      <td>-1.543008e+01</td>\n",
              "      <td>0.000000</td>\n",
              "      <td>0.000000</td>\n",
              "    </tr>\n",
              "    <tr>\n",
              "      <th>25%</th>\n",
              "      <td>54201.500000</td>\n",
              "      <td>-9.203734e-01</td>\n",
              "      <td>-5.985499e-01</td>\n",
              "      <td>-8.903648e-01</td>\n",
              "      <td>-8.486401e-01</td>\n",
              "      <td>-6.915971e-01</td>\n",
              "      <td>-7.682956e-01</td>\n",
              "      <td>-5.540759e-01</td>\n",
              "      <td>-2.086297e-01</td>\n",
              "      <td>-6.430976e-01</td>\n",
              "      <td>-5.354257e-01</td>\n",
              "      <td>-7.624942e-01</td>\n",
              "      <td>-4.055715e-01</td>\n",
              "      <td>-6.485393e-01</td>\n",
              "      <td>-4.255740e-01</td>\n",
              "      <td>-5.828843e-01</td>\n",
              "      <td>-4.680368e-01</td>\n",
              "      <td>-4.837483e-01</td>\n",
              "      <td>-4.988498e-01</td>\n",
              "      <td>-4.562989e-01</td>\n",
              "      <td>-2.117214e-01</td>\n",
              "      <td>-2.283949e-01</td>\n",
              "      <td>-5.423504e-01</td>\n",
              "      <td>-1.618463e-01</td>\n",
              "      <td>-3.545861e-01</td>\n",
              "      <td>-3.171451e-01</td>\n",
              "      <td>-3.269839e-01</td>\n",
              "      <td>-7.083953e-02</td>\n",
              "      <td>-5.295979e-02</td>\n",
              "      <td>5.600000</td>\n",
              "      <td>0.000000</td>\n",
              "    </tr>\n",
              "    <tr>\n",
              "      <th>50%</th>\n",
              "      <td>84692.000000</td>\n",
              "      <td>1.810880e-02</td>\n",
              "      <td>6.548556e-02</td>\n",
              "      <td>1.798463e-01</td>\n",
              "      <td>-1.984653e-02</td>\n",
              "      <td>-5.433583e-02</td>\n",
              "      <td>-2.741871e-01</td>\n",
              "      <td>4.010308e-02</td>\n",
              "      <td>2.235804e-02</td>\n",
              "      <td>-5.142873e-02</td>\n",
              "      <td>-9.291738e-02</td>\n",
              "      <td>-3.275735e-02</td>\n",
              "      <td>1.400326e-01</td>\n",
              "      <td>-1.356806e-02</td>\n",
              "      <td>5.060132e-02</td>\n",
              "      <td>4.807155e-02</td>\n",
              "      <td>6.641332e-02</td>\n",
              "      <td>-6.567575e-02</td>\n",
              "      <td>-3.636312e-03</td>\n",
              "      <td>3.734823e-03</td>\n",
              "      <td>-6.248109e-02</td>\n",
              "      <td>-2.945017e-02</td>\n",
              "      <td>6.781943e-03</td>\n",
              "      <td>-1.119293e-02</td>\n",
              "      <td>4.097606e-02</td>\n",
              "      <td>1.659350e-02</td>\n",
              "      <td>-5.213911e-02</td>\n",
              "      <td>1.342146e-03</td>\n",
              "      <td>1.124383e-02</td>\n",
              "      <td>22.000000</td>\n",
              "      <td>0.000000</td>\n",
              "    </tr>\n",
              "    <tr>\n",
              "      <th>75%</th>\n",
              "      <td>139320.500000</td>\n",
              "      <td>1.315642e+00</td>\n",
              "      <td>8.037239e-01</td>\n",
              "      <td>1.027196e+00</td>\n",
              "      <td>7.433413e-01</td>\n",
              "      <td>6.119264e-01</td>\n",
              "      <td>3.985649e-01</td>\n",
              "      <td>5.704361e-01</td>\n",
              "      <td>3.273459e-01</td>\n",
              "      <td>5.971390e-01</td>\n",
              "      <td>4.539234e-01</td>\n",
              "      <td>7.395934e-01</td>\n",
              "      <td>6.182380e-01</td>\n",
              "      <td>6.625050e-01</td>\n",
              "      <td>4.931498e-01</td>\n",
              "      <td>6.488208e-01</td>\n",
              "      <td>5.232963e-01</td>\n",
              "      <td>3.996750e-01</td>\n",
              "      <td>5.008067e-01</td>\n",
              "      <td>4.589494e-01</td>\n",
              "      <td>1.330408e-01</td>\n",
              "      <td>1.863772e-01</td>\n",
              "      <td>5.285536e-01</td>\n",
              "      <td>1.476421e-01</td>\n",
              "      <td>4.395266e-01</td>\n",
              "      <td>3.507156e-01</td>\n",
              "      <td>2.409522e-01</td>\n",
              "      <td>9.104512e-02</td>\n",
              "      <td>7.827995e-02</td>\n",
              "      <td>77.165000</td>\n",
              "      <td>0.000000</td>\n",
              "    </tr>\n",
              "    <tr>\n",
              "      <th>max</th>\n",
              "      <td>172792.000000</td>\n",
              "      <td>2.454930e+00</td>\n",
              "      <td>2.205773e+01</td>\n",
              "      <td>9.382558e+00</td>\n",
              "      <td>1.687534e+01</td>\n",
              "      <td>3.480167e+01</td>\n",
              "      <td>7.330163e+01</td>\n",
              "      <td>1.205895e+02</td>\n",
              "      <td>2.000721e+01</td>\n",
              "      <td>1.559499e+01</td>\n",
              "      <td>2.374514e+01</td>\n",
              "      <td>1.201891e+01</td>\n",
              "      <td>7.848392e+00</td>\n",
              "      <td>7.126883e+00</td>\n",
              "      <td>1.052677e+01</td>\n",
              "      <td>8.877742e+00</td>\n",
              "      <td>1.731511e+01</td>\n",
              "      <td>9.253526e+00</td>\n",
              "      <td>5.041069e+00</td>\n",
              "      <td>5.591971e+00</td>\n",
              "      <td>3.942090e+01</td>\n",
              "      <td>2.720284e+01</td>\n",
              "      <td>1.050309e+01</td>\n",
              "      <td>2.252841e+01</td>\n",
              "      <td>4.584549e+00</td>\n",
              "      <td>7.519589e+00</td>\n",
              "      <td>3.517346e+00</td>\n",
              "      <td>3.161220e+01</td>\n",
              "      <td>3.384781e+01</td>\n",
              "      <td>25691.160000</td>\n",
              "      <td>1.000000</td>\n",
              "    </tr>\n",
              "  </tbody>\n",
              "</table>\n",
              "</div>"
            ],
            "text/plain": [
              "                Time            V1  ...         Amount          Class\n",
              "count  284807.000000  2.848070e+05  ...  284807.000000  284807.000000\n",
              "mean    94813.859575  3.919560e-15  ...      88.349619       0.001727\n",
              "std     47488.145955  1.958696e+00  ...     250.120109       0.041527\n",
              "min         0.000000 -5.640751e+01  ...       0.000000       0.000000\n",
              "25%     54201.500000 -9.203734e-01  ...       5.600000       0.000000\n",
              "50%     84692.000000  1.810880e-02  ...      22.000000       0.000000\n",
              "75%    139320.500000  1.315642e+00  ...      77.165000       0.000000\n",
              "max    172792.000000  2.454930e+00  ...   25691.160000       1.000000\n",
              "\n",
              "[8 rows x 31 columns]"
            ]
          },
          "metadata": {
            "tags": []
          },
          "execution_count": 11
        }
      ]
    },
    {
      "cell_type": "markdown",
      "metadata": {
        "id": "QeOaolfV4VIm",
        "colab_type": "text"
      },
      "source": [
        "# EDA"
      ]
    },
    {
      "cell_type": "code",
      "metadata": {
        "id": "fhvQIPcd4Rv-",
        "colab_type": "code",
        "colab": {
          "base_uri": "https://localhost:8080/",
          "height": 34
        },
        "outputId": "b9fef66e-e3b2-49e6-e4e3-4dad7b6fbf08"
      },
      "source": [
        "data.shape"
      ],
      "execution_count": 12,
      "outputs": [
        {
          "output_type": "execute_result",
          "data": {
            "text/plain": [
              "(284807, 31)"
            ]
          },
          "metadata": {
            "tags": []
          },
          "execution_count": 12
        }
      ]
    },
    {
      "cell_type": "code",
      "metadata": {
        "id": "lAsxP1Hf4YdO",
        "colab_type": "code",
        "colab": {
          "base_uri": "https://localhost:8080/",
          "height": 34
        },
        "outputId": "8c94b4d1-3218-4caf-b109-80e8e23860f6"
      },
      "source": [
        "data.isnull().values.any()"
      ],
      "execution_count": 13,
      "outputs": [
        {
          "output_type": "execute_result",
          "data": {
            "text/plain": [
              "False"
            ]
          },
          "metadata": {
            "tags": []
          },
          "execution_count": 13
        }
      ]
    },
    {
      "cell_type": "code",
      "metadata": {
        "id": "WhGgcr5Z4cW2",
        "colab_type": "code",
        "colab": {
          "base_uri": "https://localhost:8080/",
          "height": 217
        },
        "outputId": "bce680c0-9127-469f-de18-d47db71d48e7"
      },
      "source": [
        "data.head()"
      ],
      "execution_count": 14,
      "outputs": [
        {
          "output_type": "execute_result",
          "data": {
            "text/html": [
              "<div>\n",
              "<style scoped>\n",
              "    .dataframe tbody tr th:only-of-type {\n",
              "        vertical-align: middle;\n",
              "    }\n",
              "\n",
              "    .dataframe tbody tr th {\n",
              "        vertical-align: top;\n",
              "    }\n",
              "\n",
              "    .dataframe thead th {\n",
              "        text-align: right;\n",
              "    }\n",
              "</style>\n",
              "<table border=\"1\" class=\"dataframe\">\n",
              "  <thead>\n",
              "    <tr style=\"text-align: right;\">\n",
              "      <th></th>\n",
              "      <th>Time</th>\n",
              "      <th>V1</th>\n",
              "      <th>V2</th>\n",
              "      <th>V3</th>\n",
              "      <th>V4</th>\n",
              "      <th>V5</th>\n",
              "      <th>V6</th>\n",
              "      <th>V7</th>\n",
              "      <th>V8</th>\n",
              "      <th>V9</th>\n",
              "      <th>V10</th>\n",
              "      <th>V11</th>\n",
              "      <th>V12</th>\n",
              "      <th>V13</th>\n",
              "      <th>V14</th>\n",
              "      <th>V15</th>\n",
              "      <th>V16</th>\n",
              "      <th>V17</th>\n",
              "      <th>V18</th>\n",
              "      <th>V19</th>\n",
              "      <th>V20</th>\n",
              "      <th>V21</th>\n",
              "      <th>V22</th>\n",
              "      <th>V23</th>\n",
              "      <th>V24</th>\n",
              "      <th>V25</th>\n",
              "      <th>V26</th>\n",
              "      <th>V27</th>\n",
              "      <th>V28</th>\n",
              "      <th>Amount</th>\n",
              "      <th>Class</th>\n",
              "    </tr>\n",
              "  </thead>\n",
              "  <tbody>\n",
              "    <tr>\n",
              "      <th>0</th>\n",
              "      <td>0.0</td>\n",
              "      <td>-1.359807</td>\n",
              "      <td>-0.072781</td>\n",
              "      <td>2.536347</td>\n",
              "      <td>1.378155</td>\n",
              "      <td>-0.338321</td>\n",
              "      <td>0.462388</td>\n",
              "      <td>0.239599</td>\n",
              "      <td>0.098698</td>\n",
              "      <td>0.363787</td>\n",
              "      <td>0.090794</td>\n",
              "      <td>-0.551600</td>\n",
              "      <td>-0.617801</td>\n",
              "      <td>-0.991390</td>\n",
              "      <td>-0.311169</td>\n",
              "      <td>1.468177</td>\n",
              "      <td>-0.470401</td>\n",
              "      <td>0.207971</td>\n",
              "      <td>0.025791</td>\n",
              "      <td>0.403993</td>\n",
              "      <td>0.251412</td>\n",
              "      <td>-0.018307</td>\n",
              "      <td>0.277838</td>\n",
              "      <td>-0.110474</td>\n",
              "      <td>0.066928</td>\n",
              "      <td>0.128539</td>\n",
              "      <td>-0.189115</td>\n",
              "      <td>0.133558</td>\n",
              "      <td>-0.021053</td>\n",
              "      <td>149.62</td>\n",
              "      <td>0</td>\n",
              "    </tr>\n",
              "    <tr>\n",
              "      <th>1</th>\n",
              "      <td>0.0</td>\n",
              "      <td>1.191857</td>\n",
              "      <td>0.266151</td>\n",
              "      <td>0.166480</td>\n",
              "      <td>0.448154</td>\n",
              "      <td>0.060018</td>\n",
              "      <td>-0.082361</td>\n",
              "      <td>-0.078803</td>\n",
              "      <td>0.085102</td>\n",
              "      <td>-0.255425</td>\n",
              "      <td>-0.166974</td>\n",
              "      <td>1.612727</td>\n",
              "      <td>1.065235</td>\n",
              "      <td>0.489095</td>\n",
              "      <td>-0.143772</td>\n",
              "      <td>0.635558</td>\n",
              "      <td>0.463917</td>\n",
              "      <td>-0.114805</td>\n",
              "      <td>-0.183361</td>\n",
              "      <td>-0.145783</td>\n",
              "      <td>-0.069083</td>\n",
              "      <td>-0.225775</td>\n",
              "      <td>-0.638672</td>\n",
              "      <td>0.101288</td>\n",
              "      <td>-0.339846</td>\n",
              "      <td>0.167170</td>\n",
              "      <td>0.125895</td>\n",
              "      <td>-0.008983</td>\n",
              "      <td>0.014724</td>\n",
              "      <td>2.69</td>\n",
              "      <td>0</td>\n",
              "    </tr>\n",
              "    <tr>\n",
              "      <th>2</th>\n",
              "      <td>1.0</td>\n",
              "      <td>-1.358354</td>\n",
              "      <td>-1.340163</td>\n",
              "      <td>1.773209</td>\n",
              "      <td>0.379780</td>\n",
              "      <td>-0.503198</td>\n",
              "      <td>1.800499</td>\n",
              "      <td>0.791461</td>\n",
              "      <td>0.247676</td>\n",
              "      <td>-1.514654</td>\n",
              "      <td>0.207643</td>\n",
              "      <td>0.624501</td>\n",
              "      <td>0.066084</td>\n",
              "      <td>0.717293</td>\n",
              "      <td>-0.165946</td>\n",
              "      <td>2.345865</td>\n",
              "      <td>-2.890083</td>\n",
              "      <td>1.109969</td>\n",
              "      <td>-0.121359</td>\n",
              "      <td>-2.261857</td>\n",
              "      <td>0.524980</td>\n",
              "      <td>0.247998</td>\n",
              "      <td>0.771679</td>\n",
              "      <td>0.909412</td>\n",
              "      <td>-0.689281</td>\n",
              "      <td>-0.327642</td>\n",
              "      <td>-0.139097</td>\n",
              "      <td>-0.055353</td>\n",
              "      <td>-0.059752</td>\n",
              "      <td>378.66</td>\n",
              "      <td>0</td>\n",
              "    </tr>\n",
              "    <tr>\n",
              "      <th>3</th>\n",
              "      <td>1.0</td>\n",
              "      <td>-0.966272</td>\n",
              "      <td>-0.185226</td>\n",
              "      <td>1.792993</td>\n",
              "      <td>-0.863291</td>\n",
              "      <td>-0.010309</td>\n",
              "      <td>1.247203</td>\n",
              "      <td>0.237609</td>\n",
              "      <td>0.377436</td>\n",
              "      <td>-1.387024</td>\n",
              "      <td>-0.054952</td>\n",
              "      <td>-0.226487</td>\n",
              "      <td>0.178228</td>\n",
              "      <td>0.507757</td>\n",
              "      <td>-0.287924</td>\n",
              "      <td>-0.631418</td>\n",
              "      <td>-1.059647</td>\n",
              "      <td>-0.684093</td>\n",
              "      <td>1.965775</td>\n",
              "      <td>-1.232622</td>\n",
              "      <td>-0.208038</td>\n",
              "      <td>-0.108300</td>\n",
              "      <td>0.005274</td>\n",
              "      <td>-0.190321</td>\n",
              "      <td>-1.175575</td>\n",
              "      <td>0.647376</td>\n",
              "      <td>-0.221929</td>\n",
              "      <td>0.062723</td>\n",
              "      <td>0.061458</td>\n",
              "      <td>123.50</td>\n",
              "      <td>0</td>\n",
              "    </tr>\n",
              "    <tr>\n",
              "      <th>4</th>\n",
              "      <td>2.0</td>\n",
              "      <td>-1.158233</td>\n",
              "      <td>0.877737</td>\n",
              "      <td>1.548718</td>\n",
              "      <td>0.403034</td>\n",
              "      <td>-0.407193</td>\n",
              "      <td>0.095921</td>\n",
              "      <td>0.592941</td>\n",
              "      <td>-0.270533</td>\n",
              "      <td>0.817739</td>\n",
              "      <td>0.753074</td>\n",
              "      <td>-0.822843</td>\n",
              "      <td>0.538196</td>\n",
              "      <td>1.345852</td>\n",
              "      <td>-1.119670</td>\n",
              "      <td>0.175121</td>\n",
              "      <td>-0.451449</td>\n",
              "      <td>-0.237033</td>\n",
              "      <td>-0.038195</td>\n",
              "      <td>0.803487</td>\n",
              "      <td>0.408542</td>\n",
              "      <td>-0.009431</td>\n",
              "      <td>0.798278</td>\n",
              "      <td>-0.137458</td>\n",
              "      <td>0.141267</td>\n",
              "      <td>-0.206010</td>\n",
              "      <td>0.502292</td>\n",
              "      <td>0.219422</td>\n",
              "      <td>0.215153</td>\n",
              "      <td>69.99</td>\n",
              "      <td>0</td>\n",
              "    </tr>\n",
              "  </tbody>\n",
              "</table>\n",
              "</div>"
            ],
            "text/plain": [
              "   Time        V1        V2        V3  ...       V27       V28  Amount  Class\n",
              "0   0.0 -1.359807 -0.072781  2.536347  ...  0.133558 -0.021053  149.62      0\n",
              "1   0.0  1.191857  0.266151  0.166480  ... -0.008983  0.014724    2.69      0\n",
              "2   1.0 -1.358354 -1.340163  1.773209  ... -0.055353 -0.059752  378.66      0\n",
              "3   1.0 -0.966272 -0.185226  1.792993  ...  0.062723  0.061458  123.50      0\n",
              "4   2.0 -1.158233  0.877737  1.548718  ...  0.219422  0.215153   69.99      0\n",
              "\n",
              "[5 rows x 31 columns]"
            ]
          },
          "metadata": {
            "tags": []
          },
          "execution_count": 14
        }
      ]
    },
    {
      "cell_type": "code",
      "metadata": {
        "id": "HrPLPyj54eTX",
        "colab_type": "code",
        "colab": {
          "base_uri": "https://localhost:8080/",
          "height": 513
        },
        "outputId": "d9631788-0d9c-4772-c095-8e45f7eee225"
      },
      "source": [
        "count_classes = pd.value_counts(data['Class'], sort = True)\n",
        "count_classes.plot(kind = 'bar', rot=0)\n",
        "plt.title(\"Transaction Class Distribution\")\n",
        "plt.xticks(range(2), LABELS)\n",
        "plt.xlabel(\"Class\")\n",
        "plt.ylabel(\"Frequency\");"
      ],
      "execution_count": 15,
      "outputs": [
        {
          "output_type": "display_data",
          "data": {
            "image/png": "[encoded data removed]",
            "text/plain": [
              "<Figure size 1008x576 with 1 Axes>"
            ]
          },
          "metadata": {
            "tags": [],
            "needs_background": "light"
          }
        }
      ]
    },
    {
      "cell_type": "code",
      "metadata": {
        "id": "Ix-BVcsr4kCt",
        "colab_type": "code",
        "colab": {}
      },
      "source": [
        "Fraud = data[data['Class']==1]\n",
        "\n",
        "Normal = data[data['Class']==0]"
      ],
      "execution_count": 0,
      "outputs": []
    },
    {
      "cell_type": "code",
      "metadata": {
        "id": "YoP5uKC-4keG",
        "colab_type": "code",
        "colab": {
          "base_uri": "https://localhost:8080/",
          "height": 34
        },
        "outputId": "af0d1d95-b1ef-4a0e-9823-c5b9df8cd80d"
      },
      "source": [
        "Fraud.shape"
      ],
      "execution_count": 17,
      "outputs": [
        {
          "output_type": "execute_result",
          "data": {
            "text/plain": [
              "(492, 31)"
            ]
          },
          "metadata": {
            "tags": []
          },
          "execution_count": 17
        }
      ]
    },
    {
      "cell_type": "code",
      "metadata": {
        "id": "wG7drRtP4mPq",
        "colab_type": "code",
        "colab": {
          "base_uri": "https://localhost:8080/",
          "height": 34
        },
        "outputId": "c894d283-7b67-46b8-ef1c-c6c9471b8e17"
      },
      "source": [
        "Normal.shape"
      ],
      "execution_count": 18,
      "outputs": [
        {
          "output_type": "execute_result",
          "data": {
            "text/plain": [
              "(284315, 31)"
            ]
          },
          "metadata": {
            "tags": []
          },
          "execution_count": 18
        }
      ]
    },
    {
      "cell_type": "code",
      "metadata": {
        "id": "FlL39sIL4rJF",
        "colab_type": "code",
        "colab": {
          "base_uri": "https://localhost:8080/",
          "height": 176
        },
        "outputId": "7250c425-4b92-40ea-c2c0-0c400e83ab37"
      },
      "source": [
        "Fraud.Amount.describe()"
      ],
      "execution_count": 19,
      "outputs": [
        {
          "output_type": "execute_result",
          "data": {
            "text/plain": [
              "count     492.000000\n",
              "mean      122.211321\n",
              "std       256.683288\n",
              "min         0.000000\n",
              "25%         1.000000\n",
              "50%         9.250000\n",
              "75%       105.890000\n",
              "max      2125.870000\n",
              "Name: Amount, dtype: float64"
            ]
          },
          "metadata": {
            "tags": []
          },
          "execution_count": 19
        }
      ]
    },
    {
      "cell_type": "code",
      "metadata": {
        "id": "UlBd8aIz4x1G",
        "colab_type": "code",
        "colab": {
          "base_uri": "https://localhost:8080/",
          "height": 176
        },
        "outputId": "710d6249-f2e3-4e51-dfe2-721357a3fb06"
      },
      "source": [
        "Normal.Amount.describe()"
      ],
      "execution_count": 20,
      "outputs": [
        {
          "output_type": "execute_result",
          "data": {
            "text/plain": [
              "count    284315.000000\n",
              "mean         88.291022\n",
              "std         250.105092\n",
              "min           0.000000\n",
              "25%           5.650000\n",
              "50%          22.000000\n",
              "75%          77.050000\n",
              "max       25691.160000\n",
              "Name: Amount, dtype: float64"
            ]
          },
          "metadata": {
            "tags": []
          },
          "execution_count": 20
        }
      ]
    },
    {
      "cell_type": "markdown",
      "metadata": {
        "id": "vnMEOudT45O8",
        "colab_type": "text"
      },
      "source": [
        "# A graphical representation of the data"
      ]
    },
    {
      "cell_type": "code",
      "metadata": {
        "id": "OqCv2cYU40Sc",
        "colab_type": "code",
        "colab": {
          "base_uri": "https://localhost:8080/",
          "height": 554
        },
        "outputId": "2243231f-0f15-4734-d7bc-8219f9c09cb8"
      },
      "source": [
        "f, (ax1, ax2) = plt.subplots(2, 1, sharex=True)\n",
        "f.suptitle('Amount per transaction by class')\n",
        "bins = 50\n",
        "ax1.hist(Fraud.Amount, bins = bins)\n",
        "ax1.set_title('Fraud')\n",
        "ax2.hist(Normal.Amount, bins = bins)\n",
        "ax2.set_title('Normal')\n",
        "plt.xlabel('Amount ($)')\n",
        "plt.ylabel('Number of Transactions')\n",
        "plt.xlim((0, 20000))\n",
        "plt.yscale('log')\n",
        "plt.show();"
      ],
      "execution_count": 21,
      "outputs": [
        {
          "output_type": "display_data",
          "data": {
            "image/png": "[encoded data removed]",
            "text/plain": [
              "<Figure size 1008x576 with 2 Axes>"
            ]
          },
          "metadata": {
            "tags": [],
            "needs_background": "light"
          }
        }
      ]
    },
    {
      "cell_type": "markdown",
      "metadata": {
        "id": "kI9p79x55GEo",
        "colab_type": "text"
      },
      "source": [
        "# Do fraudulent transactions occur more often during certain time frame"
      ]
    },
    {
      "cell_type": "code",
      "metadata": {
        "id": "moklLYoJ48_T",
        "colab_type": "code",
        "colab": {
          "base_uri": "https://localhost:8080/",
          "height": 554
        },
        "outputId": "c1322d9f-bbc9-4a1e-f7e3-1a49d2e9ec68"
      },
      "source": [
        "f, (ax1, ax2) = plt.subplots(2, 1, sharex=True)\n",
        "f.suptitle('Time of transaction vs Amount by class')\n",
        "ax1.scatter(Fraud.Time, Fraud.Amount)\n",
        "ax1.set_title('Fraud')\n",
        "ax2.scatter(Normal.Time, Normal.Amount)\n",
        "ax2.set_title('Normal')\n",
        "plt.xlabel('Time (in Seconds)')\n",
        "plt.ylabel('Amount')\n",
        "plt.show()"
      ],
      "execution_count": 22,
      "outputs": [
        {
          "output_type": "display_data",
          "data": {
            "image/png": "[encoded data removed]",
            "text/plain": [
              "<Figure size 1008x576 with 2 Axes>"
            ]
          },
          "metadata": {
            "tags": [],
            "needs_background": "light"
          }
        }
      ]
    },
    {
      "cell_type": "code",
      "metadata": {
        "id": "yNOYwVnx5JT3",
        "colab_type": "code",
        "colab": {
          "base_uri": "https://localhost:8080/",
          "height": 16
        },
        "outputId": "ae2bab47-efd3-408a-a31f-7d16480fd6ec"
      },
      "source": [
        "init_notebook_mode(connected=True)\n",
        "plotly.offline.init_notebook_mode(connected=True)"
      ],
      "execution_count": 23,
      "outputs": [
        {
          "output_type": "display_data",
          "data": {
            "text/html": [
              "        <script type=\"text/javascript\">\n",
              "        window.PlotlyConfig = {MathJaxConfig: 'local'};\n",
              "        if (window.MathJax) {MathJax.Hub.Config({SVG: {font: \"STIX-Web\"}});}\n",
              "        if (typeof require !== 'undefined') {\n",
              "        require.undef(\"plotly\");\n",
              "        requirejs.config({\n",
              "            paths: {\n",
              "                'plotly': ['https://cdn.plot.ly/plotly-latest.min']\n",
              "            }\n",
              "        });\n",
              "        require(['plotly'], function(Plotly) {\n",
              "            window._Plotly = Plotly;\n",
              "        });\n",
              "        }\n",
              "        </script>\n",
              "        "
            ]
          },
          "metadata": {
            "tags": []
          }
        },
        {
          "output_type": "display_data",
          "data": {
            "text/html": [
              "        <script type=\"text/javascript\">\n",
              "        window.PlotlyConfig = {MathJaxConfig: 'local'};\n",
              "        if (window.MathJax) {MathJax.Hub.Config({SVG: {font: \"STIX-Web\"}});}\n",
              "        if (typeof require !== 'undefined') {\n",
              "        require.undef(\"plotly\");\n",
              "        requirejs.config({\n",
              "            paths: {\n",
              "                'plotly': ['https://cdn.plot.ly/plotly-latest.min']\n",
              "            }\n",
              "        });\n",
              "        require(['plotly'], function(Plotly) {\n",
              "            window._Plotly = Plotly;\n",
              "        });\n",
              "        }\n",
              "        </script>\n",
              "        "
            ]
          },
          "metadata": {
            "tags": []
          }
        }
      ]
    },
    {
      "cell_type": "code",
      "metadata": {
        "id": "nSNZGJRE5M2G",
        "colab_type": "code",
        "colab": {}
      },
      "source": [
        "trace = go.Scatter(\n",
        "    x = Fraud.Time,\n",
        "    y = Fraud.Amount,\n",
        "    mode = 'markers'\n",
        ")\n",
        "data = [trace]"
      ],
      "execution_count": 0,
      "outputs": []
    },
    {
      "cell_type": "code",
      "metadata": {
        "id": "oRirB9nd5QTa",
        "colab_type": "code",
        "colab": {
          "base_uri": "https://localhost:8080/",
          "height": 542
        },
        "outputId": "9fe9e8a8-e5d4-4435-e445-690933048658"
      },
      "source": [
        "plotly.offline.iplot({\n",
        "    \"data\": data\n",
        "})"
      ],
      "execution_count": 25,
      "outputs": [
        {
          "output_type": "display_data",
          "data": {
            "text/html": [
              "<div>\n",
              "        \n",
              "        \n",
              "            <div id=\"13e25aaf-54a9-424b-bff5-7e1b64c8f716\" class=\"plotly-graph-div\" style=\"height:525px; width:100%;\"></div>\n",
              "            <script type=\"text/javascript\">\n",
              "                require([\"plotly\"], function(Plotly) {\n",
              "                    window.PLOTLYENV=window.PLOTLYENV || {};\n",
              "                    \n",
              "                if (document.getElementById(\"13e25aaf-54a9-424b-bff5-7e1b64c8f716\")) {\n",
              "                    Plotly.newPlot(\n",
              "                        '13e25aaf-54a9-424b-bff5-7e1b64c8f716',\n",
              "                        [{\"mode\": \"markers\", \"type\": \"scatter\", \"x\": [406.0, 472.0, 4462.0, 6986.0, 7519.0, 7526.0, 7535.0, 7543.0, 7551.0, 7610.0, 7672.0, 7740.0, 7891.0, 8090.0, 8169.0, 8408.0, 8415.0, 8451.0, 8528.0, 8614.0, 8757.0, 8808.0, 8878.0, 8886.0, 9064.0, 11080.0, 11092.0, 11131.0, 11629.0, 11635.0, 12093.0, 12095.0, 12393.0, 12597.0, 13126.0, 13323.0, 14073.0, 14152.0, 15817.0, 17187.0, 17220.0, 17230.0, 17520.0, 17838.0, 18088.0, 18399.0, 18675.0, 18690.0, 19762.0, 20011.0, 20332.0, 20451.0, 20931.0, 21046.0, 21419.0, 21662.0, 25095.0, 25198.0, 25231.0, 25254.0, 25426.0, 26523.0, 26556.0, 26585.0, 26833.0, 26863.0, 26899.0, 26931.0, 26961.0, 27163.0, 27187.0, 27219.0, 27252.0, 27784.0, 28143.0, 28242.0, 28625.0, 28658.0, 28692.0, 28726.0, 28755.0, 29526.0, 29531.0, 29753.0, 29785.0, 30852.0, 32686.0, 32745.0, 34256.0, 34521.0, 34634.0, 34684.0, 34687.0, 35585.0, 35771.0, 35866.0, 35899.0, 35906.0, 35926.0, 35942.0, 35953.0, 36170.0, 37167.0, 39729.0, 40086.0, 40276.0, 40662.0, 40742.0, 40892.0, 40918.0, 40919.0, 41116.0, 41138.0, 41147.0, 41164.0, 41170.0, 41181.0, 41194.0, 41203.0, 41204.0, 41227.0, 41233.0, 41237.0, 41243.0, 41273.0, 41285.0, 41305.0, 41308.0, 41313.0, 41353.0, 41397.0, 41413.0, 41505.0, 41582.0, 41607.0, 41646.0, 41743.0, 41791.0, 41851.0, 41870.0, 41991.0, 42247.0, 42474.0, 42985.0, 42988.0, 43028.0, 43369.0, 43494.0, 44393.0, 44532.0, 45463.0, 45501.0, 45541.0, 46057.0, 46149.0, 46925.0, 47545.0, 47826.0, 47923.0, 47982.0, 48380.0, 48533.0, 48884.0, 49985.0, 50706.0, 50808.0, 51112.0, 51135.0, 51155.0, 52814.0, 52934.0, 53031.0, 53076.0, 53451.0, 53658.0, 53727.0, 53937.0, 54846.0, 55279.0, 55311.0, 55614.0, 55618.0, 55760.0, 56098.0, 56624.0, 56650.0, 56806.0, 56887.0, 57007.0, 57027.0, 57163.0, 58060.0, 58067.0, 58199.0, 58217.0, 58222.0, 58642.0, 58822.0, 59011.0, 59385.0, 59669.0, 59777.0, 59840.0, 60353.0, 61108.0, 61646.0, 62059.0, 62080.0, 62330.0, 62341.0, 62467.0, 63578.0, 64093.0, 64412.0, 64443.0, 64585.0, 64785.0, 65358.0, 65385.0, 65728.0, 65936.0, 66037.0, 67150.0, 67571.0, 67857.0, 68207.0, 68207.0, 68207.0, 68207.0, 68207.0, 68207.0, 68357.0, 69394.0, 70071.0, 70229.0, 70270.0, 70536.0, 70828.0, 71033.0, 72327.0, 72824.0, 73408.0, 74159.0, 74262.0, 75033.0, 75556.0, 75581.0, 75851.0, 75978.0, 76575.0, 76826.0, 76845.0, 76857.0, 76867.0, 76876.0, 77154.0, 77171.0, 77182.0, 77202.0, 77627.0, 78725.0, 79540.0, 81372.0, 82289.0, 83934.0, 84204.0, 84204.0, 84204.0, 84204.0, 84694.0, 84789.0, 85181.0, 85285.0, 85285.0, 85285.0, 85285.0, 85573.0, 85576.0, 85864.0, 85867.0, 86376.0, 87202.0, 87883.0, 88672.0, 88737.0, 90676.0, 91075.0, 91407.0, 91502.0, 91524.0, 91554.0, 92092.0, 92102.0, 93742.0, 93823.0, 93824.0, 93834.0, 93853.0, 93853.0, 93853.0, 93853.0, 93856.0, 93860.0, 93860.0, 93860.0, 93860.0, 93879.0, 93879.0, 93879.0, 93879.0, 93888.0, 93897.0, 93904.0, 93920.0, 93965.0, 94141.0, 94362.0, 94362.0, 94362.0, 94362.0, 94364.0, 94625.0, 94952.0, 95559.0, 95628.0, 96135.0, 96291.0, 96717.0, 97121.0, 97235.0, 100223.0, 100298.0, 100501.0, 100924.0, 101051.0, 101313.0, 101597.0, 102114.0, 102318.0, 102480.0, 102489.0, 102542.0, 102572.0, 102619.0, 102622.0, 102625.0, 102669.0, 102671.0, 102676.0, 103808.0, 109297.0, 109298.0, 110087.0, 110547.0, 110552.0, 110617.0, 115691.0, 116067.0, 118532.0, 118603.0, 121238.0, 122608.0, 123078.0, 123525.0, 125200.0, 125612.0, 125658.0, 126219.0, 128471.0, 128519.0, 128595.0, 128803.0, 129095.0, 129186.0, 129222.0, 129308.0, 129371.0, 129668.0, 129741.0, 129764.0, 129808.0, 131024.0, 132086.0, 132688.0, 133184.0, 133731.0, 133958.0, 134766.0, 134769.0, 134928.0, 135095.0, 135102.0, 135314.0, 137211.0, 138894.0, 138942.0, 139107.0, 139117.0, 139767.0, 139816.0, 139951.0, 140293.0, 140308.0, 141320.0, 141565.0, 141925.0, 142280.0, 142394.0, 142409.0, 142840.0, 142961.0, 143354.0, 143434.0, 143438.0, 143456.0, 144808.0, 144839.0, 146022.0, 146026.0, 146179.0, 146344.0, 146998.0, 147501.0, 148028.0, 148053.0, 148053.0, 148074.0, 148468.0, 148476.0, 148479.0, 149096.0, 149236.0, 149582.0, 149640.0, 149676.0, 150138.0, 150139.0, 150494.0, 150949.0, 151029.0, 151916.0, 151972.0, 152036.0, 152058.0, 152098.0, 152165.0, 152307.0, 152710.0, 152802.0, 153653.0, 153761.0, 153875.0, 154181.0, 154278.0, 154309.0, 154493.0, 154599.0, 154657.0, 155054.0, 155359.0, 155535.0, 155542.0, 155548.0, 155554.0, 155662.0, 155965.0, 156685.0, 156710.0, 157207.0, 157284.0, 158638.0, 159844.0, 160034.0, 160243.0, 160537.0, 160665.0, 160791.0, 160870.0, 160895.0, 161154.0, 163181.0, 165132.0, 165981.0, 166028.0, 166831.0, 166883.0, 167338.0, 169142.0, 169347.0, 169351.0, 169966.0, 170348.0], \"y\": [0.0, 529.0, 239.93, 59.0, 1.0, 1.0, 1.0, 1.0, 1.0, 1.0, 1.0, 1.0, 1.0, 1.0, 1.0, 1.0, 1.0, 1.0, 1.0, 1.0, 1.0, 1.1, 1.0, 1.0, 1809.68, 1.0, 1.0, 1.0, 1.0, 1.0, 0.0, 30.39, 179.66, 1.0, 1.0, 1.0, 1.0, 1.0, 11.39, 3.79, 3.79, 3.93, 1.0, 766.36, 1218.89, 1.0, 188.78, 1.0, 1.0, 1.0, 1.0, 1.0, 1.0, 1.0, 1.0, 1.0, 3.12, 99.99, 99.99, 99.99, 3.76, 99.99, 99.99, 99.99, 99.99, 99.99, 99.99, 99.99, 99.99, 99.99, 99.99, 99.99, 99.99, 23.36, 99.99, 730.86, 99.99, 99.99, 99.99, 99.99, 99.99, 0.68, 0.68, 0.68, 30.3, 104.81, 0.0, 717.15, 19.02, 1.52, 18.96, 125.3, 19.02, 0.76, 60.6, 7.61, 1.0, 9.13, 4.56, 14.46, 111.7, 111.7, 12.31, 776.83, 1.0, 1.0, 1.0, 1.0, 0.76, 0.76, 112.33, 3.79, 340.11, 88.23, 5.3, 83.38, 11.38, 1.52, 88.23, 30.26, 459.07, 0.0, 118.3, 45.49, 173.07, 37.32, 59.68, 0.76, 9.99, 34.12, 273.01, 106.55, 364.19, 39.45, 53.95, 172.32, 802.52, 99.99, 139.9, 1.0, 1.0, 1.0, 1.0, 1.0, 648.0, 204.27, 88.0, 24.9, 1.0, 1.0, 1.0, 105.99, 1.0, 1.0, 1.0, 1.0, 0.76, 7.58, 0.76, 0.76, 208.58, 1.0, 19.73, 360.0, 99.99, 99.99, 99.99, 99.99, 99.99, 519.9, 0.76, 0.76, 1.18, 8.0, 0.0, 112.45, 261.87, 1.79, 1.0, 0.83, 0.83, 130.44, 311.91, 170.92, 153.46, 7.52, 1.0, 5.0, 0.01, 444.17, 1.0, 1.0, 1.0, 1.75, 5.09, 270.0, 113.92, 45.64, 1389.56, 18.98, 6.27, 319.2, 5.91, 454.82, 101.5, 19.04, 6.62, 180.0, 1.0, 1.1, 1402.16, 290.18, 294.9, 1.0, 0.0, 0.0, 720.38, 31.91, 1354.25, 98.01, 101.5, 7.53, 489.71, 549.06, 320.0, 1.0, 1.0, 1.0, 1.0, 1.0, 1.0, 19.59, 1.0, 227.3, 3.79, 318.11, 824.83, 0.76, 426.4, 238.9, 45.03, 16.48, 76.94, 311.28, 30.14, 29.95, 124.53, 99.85, 99.9, 219.8, 254.76, 1.0, 1.0, 1.0, 1.0, 129.0, 1.0, 1.0, 1.0, 106.9, 60.0, 0.2, 7.57, 1.0, 1.0, 0.0, 0.0, 512.25, 512.25, 12.31, 354.33, 2.0, 0.0, 0.0, 252.92, 252.92, 1.0, 240.77, 1.0, 310.42, 323.77, 451.27, 829.41, 1.18, 9.21, 6.99, 38.76, 52.69, 1.0, 1.0, 261.22, 18.0, 600.73, 1.0, 75.86, 8.54, 0.01, 44.9, 44.9, 316.06, 316.06, 209.65, 78.0, 78.0, 188.52, 188.52, 30.31, 30.31, 104.03, 104.03, 1.0, 1.0, 37.93, 97.0, 11.4, 45.48, 1.0, 1.0, 1.0, 1.0, 1.0, 33.76, 571.48, 1.63, 1.63, 18.96, 33.59, 1.0, 8.64, 9.82, 2.28, 1.0, 0.76, 1.0, 0.92, 2.28, 147.87, 0.0, 22.04, 0.0, 104.0, 2.28, 0.01, 1.0, 346.94, 7.59, 0.0, 0.0, 119.74, 2.27, 0.0, 186.13, 1.0, 0.76, 80.22, 635.1, 17.06, 65.0, 105.89, 105.89, 144.62, 2125.87, 11.0, 45.51, 40.0, 3.22, 0.0, 25.0, 67.9, 93.35, 1.0, 175.9, 720.8, 7.18, 4.87, 80.9, 0.0, 2.0, 1.0, 362.55, 276.17, 723.21, 480.72, 1.0, 1335.0, 0.0, 130.21, 1.0, 925.31, 0.0, 345.0, 108.51, 84.28, 39.45, 0.01, 727.91, 22.47, 8.3, 120.54, 0.69, 723.21, 0.77, 592.9, 195.66, 4.49, 0.76, 324.59, 320.01, 2.0, 144.8, 0.0, 1.0, 1.0, 8.9, 1.0, 667.55, 0.0, 1.18, 2.22, 0.77, 94.82, 8.0, 996.27, 0.0, 1.59, 1.59, 0.0, 0.76, 0.76, 122.68, 0.0, 1.0, 1.1, 2.0, 17.39, 50.0, 237.26, 1.0, 9.29, 10.7, 0.01, 57.73, 1.0, 1.0, 1.0, 1.0, 1.0, 2.47, 357.95, 247.86, 51.37, 0.0, 0.76, 1504.93, 1096.99, 35.0, 6.74, 0.77, 0.77, 0.77, 3.9, 3.14, 7.06, 94.82, 0.77, 0.77, 187.11, 7.59, 4.97, 0.77, 296.0, 45.51, 4.9, 156.0, 4.69, 0.77, 1.0, 0.77, 127.14, 0.38, 39.98, 12.31, 0.0, 39.9, 634.3, 19.95, 349.08, 390.0, 0.76, 77.89, 245.0, 42.53]}],\n",
              "                        {\"template\": {\"data\": {\"bar\": [{\"error_x\": {\"color\": \"#2a3f5f\"}, \"error_y\": {\"color\": \"#2a3f5f\"}, \"marker\": {\"line\": {\"color\": \"#E5ECF6\", \"width\": 0.5}}, \"type\": \"bar\"}], \"barpolar\": [{\"marker\": {\"line\": {\"color\": \"#E5ECF6\", \"width\": 0.5}}, \"type\": \"barpolar\"}], \"carpet\": [{\"aaxis\": {\"endlinecolor\": \"#2a3f5f\", \"gridcolor\": \"white\", \"linecolor\": \"white\", \"minorgridcolor\": \"white\", \"startlinecolor\": \"#2a3f5f\"}, \"baxis\": {\"endlinecolor\": \"#2a3f5f\", \"gridcolor\": \"white\", \"linecolor\": \"white\", \"minorgridcolor\": \"white\", \"startlinecolor\": \"#2a3f5f\"}, \"type\": \"carpet\"}], \"choropleth\": [{\"colorbar\": {\"outlinewidth\": 0, \"ticks\": \"\"}, \"type\": \"choropleth\"}], \"contour\": [{\"colorbar\": {\"outlinewidth\": 0, \"ticks\": \"\"}, \"colorscale\": [[0.0, \"#0d0887\"], [0.1111111111111111, \"#46039f\"], [0.2222222222222222, \"#7201a8\"], [0.3333333333333333, \"#9c179e\"], [0.4444444444444444, \"#bd3786\"], [0.5555555555555556, \"#d8576b\"], [0.6666666666666666, \"#ed7953\"], [0.7777777777777778, \"#fb9f3a\"], [0.8888888888888888, \"#fdca26\"], [1.0, \"#f0f921\"]], \"type\": \"contour\"}], \"contourcarpet\": [{\"colorbar\": {\"outlinewidth\": 0, \"ticks\": \"\"}, \"type\": \"contourcarpet\"}], \"heatmap\": [{\"colorbar\": {\"outlinewidth\": 0, \"ticks\": \"\"}, \"colorscale\": [[0.0, \"#0d0887\"], [0.1111111111111111, \"#46039f\"], [0.2222222222222222, \"#7201a8\"], [0.3333333333333333, \"#9c179e\"], [0.4444444444444444, \"#bd3786\"], [0.5555555555555556, \"#d8576b\"], [0.6666666666666666, \"#ed7953\"], [0.7777777777777778, \"#fb9f3a\"], [0.8888888888888888, \"#fdca26\"], [1.0, \"#f0f921\"]], \"type\": \"heatmap\"}], \"heatmapgl\": [{\"colorbar\": {\"outlinewidth\": 0, \"ticks\": \"\"}, \"colorscale\": [[0.0, \"#0d0887\"], [0.1111111111111111, \"#46039f\"], [0.2222222222222222, \"#7201a8\"], [0.3333333333333333, \"#9c179e\"], [0.4444444444444444, \"#bd3786\"], [0.5555555555555556, \"#d8576b\"], [0.6666666666666666, \"#ed7953\"], [0.7777777777777778, \"#fb9f3a\"], [0.8888888888888888, \"#fdca26\"], [1.0, \"#f0f921\"]], \"type\": \"heatmapgl\"}], \"histogram\": [{\"marker\": {\"colorbar\": {\"outlinewidth\": 0, \"ticks\": \"\"}}, \"type\": \"histogram\"}], \"histogram2d\": [{\"colorbar\": {\"outlinewidth\": 0, \"ticks\": \"\"}, \"colorscale\": [[0.0, \"#0d0887\"], [0.1111111111111111, \"#46039f\"], [0.2222222222222222, \"#7201a8\"], [0.3333333333333333, \"#9c179e\"], [0.4444444444444444, \"#bd3786\"], [0.5555555555555556, \"#d8576b\"], [0.6666666666666666, \"#ed7953\"], [0.7777777777777778, \"#fb9f3a\"], [0.8888888888888888, \"#fdca26\"], [1.0, \"#f0f921\"]], \"type\": \"histogram2d\"}], \"histogram2dcontour\": [{\"colorbar\": {\"outlinewidth\": 0, \"ticks\": \"\"}, \"colorscale\": [[0.0, \"#0d0887\"], [0.1111111111111111, \"#46039f\"], [0.2222222222222222, \"#7201a8\"], [0.3333333333333333, \"#9c179e\"], [0.4444444444444444, \"#bd3786\"], [0.5555555555555556, \"#d8576b\"], [0.6666666666666666, \"#ed7953\"], [0.7777777777777778, \"#fb9f3a\"], [0.8888888888888888, \"#fdca26\"], [1.0, \"#f0f921\"]], \"type\": \"histogram2dcontour\"}], \"mesh3d\": [{\"colorbar\": {\"outlinewidth\": 0, \"ticks\": \"\"}, \"type\": \"mesh3d\"}], \"parcoords\": [{\"line\": {\"colorbar\": {\"outlinewidth\": 0, \"ticks\": \"\"}}, \"type\": \"parcoords\"}], \"pie\": [{\"automargin\": true, \"type\": \"pie\"}], \"scatter\": [{\"marker\": {\"colorbar\": {\"outlinewidth\": 0, \"ticks\": \"\"}}, \"type\": \"scatter\"}], \"scatter3d\": [{\"line\": {\"colorbar\": {\"outlinewidth\": 0, \"ticks\": \"\"}}, \"marker\": {\"colorbar\": {\"outlinewidth\": 0, \"ticks\": \"\"}}, \"type\": \"scatter3d\"}], \"scattercarpet\": [{\"marker\": {\"colorbar\": {\"outlinewidth\": 0, \"ticks\": \"\"}}, \"type\": \"scattercarpet\"}], \"scattergeo\": [{\"marker\": {\"colorbar\": {\"outlinewidth\": 0, \"ticks\": \"\"}}, \"type\": \"scattergeo\"}], \"scattergl\": [{\"marker\": {\"colorbar\": {\"outlinewidth\": 0, \"ticks\": \"\"}}, \"type\": \"scattergl\"}], \"scattermapbox\": [{\"marker\": {\"colorbar\": {\"outlinewidth\": 0, \"ticks\": \"\"}}, \"type\": \"scattermapbox\"}], \"scatterpolar\": [{\"marker\": {\"colorbar\": {\"outlinewidth\": 0, \"ticks\": \"\"}}, \"type\": \"scatterpolar\"}], \"scatterpolargl\": [{\"marker\": {\"colorbar\": {\"outlinewidth\": 0, \"ticks\": \"\"}}, \"type\": \"scatterpolargl\"}], \"scatterternary\": [{\"marker\": {\"colorbar\": {\"outlinewidth\": 0, \"ticks\": \"\"}}, \"type\": \"scatterternary\"}], \"surface\": [{\"colorbar\": {\"outlinewidth\": 0, \"ticks\": \"\"}, \"colorscale\": [[0.0, \"#0d0887\"], [0.1111111111111111, \"#46039f\"], [0.2222222222222222, \"#7201a8\"], [0.3333333333333333, \"#9c179e\"], [0.4444444444444444, \"#bd3786\"], [0.5555555555555556, \"#d8576b\"], [0.6666666666666666, \"#ed7953\"], [0.7777777777777778, \"#fb9f3a\"], [0.8888888888888888, \"#fdca26\"], [1.0, \"#f0f921\"]], \"type\": \"surface\"}], \"table\": [{\"cells\": {\"fill\": {\"color\": \"#EBF0F8\"}, \"line\": {\"color\": \"white\"}}, \"header\": {\"fill\": {\"color\": \"#C8D4E3\"}, \"line\": {\"color\": \"white\"}}, \"type\": \"table\"}]}, \"layout\": {\"annotationdefaults\": {\"arrowcolor\": \"#2a3f5f\", \"arrowhead\": 0, \"arrowwidth\": 1}, \"coloraxis\": {\"colorbar\": {\"outlinewidth\": 0, \"ticks\": \"\"}}, \"colorscale\": {\"diverging\": [[0, \"#8e0152\"], [0.1, \"#c51b7d\"], [0.2, \"#de77ae\"], [0.3, \"#f1b6da\"], [0.4, \"#fde0ef\"], [0.5, \"#f7f7f7\"], [0.6, \"#e6f5d0\"], [0.7, \"#b8e186\"], [0.8, \"#7fbc41\"], [0.9, \"#4d9221\"], [1, \"#276419\"]], \"sequential\": [[0.0, \"#0d0887\"], [0.1111111111111111, \"#46039f\"], [0.2222222222222222, \"#7201a8\"], [0.3333333333333333, \"#9c179e\"], [0.4444444444444444, \"#bd3786\"], [0.5555555555555556, \"#d8576b\"], [0.6666666666666666, \"#ed7953\"], [0.7777777777777778, \"#fb9f3a\"], [0.8888888888888888, \"#fdca26\"], [1.0, \"#f0f921\"]], \"sequentialminus\": [[0.0, \"#0d0887\"], [0.1111111111111111, \"#46039f\"], [0.2222222222222222, \"#7201a8\"], [0.3333333333333333, \"#9c179e\"], [0.4444444444444444, \"#bd3786\"], [0.5555555555555556, \"#d8576b\"], [0.6666666666666666, \"#ed7953\"], [0.7777777777777778, \"#fb9f3a\"], [0.8888888888888888, \"#fdca26\"], [1.0, \"#f0f921\"]]}, \"colorway\": [\"#636efa\", \"#EF553B\", \"#00cc96\", \"#ab63fa\", \"#FFA15A\", \"#19d3f3\", \"#FF6692\", \"#B6E880\", \"#FF97FF\", \"#FECB52\"], \"font\": {\"color\": \"#2a3f5f\"}, \"geo\": {\"bgcolor\": \"white\", \"lakecolor\": \"white\", \"landcolor\": \"#E5ECF6\", \"showlakes\": true, \"showland\": true, \"subunitcolor\": \"white\"}, \"hoverlabel\": {\"align\": \"left\"}, \"hovermode\": \"closest\", \"mapbox\": {\"style\": \"light\"}, \"paper_bgcolor\": \"white\", \"plot_bgcolor\": \"#E5ECF6\", \"polar\": {\"angularaxis\": {\"gridcolor\": \"white\", \"linecolor\": \"white\", \"ticks\": \"\"}, \"bgcolor\": \"#E5ECF6\", \"radialaxis\": {\"gridcolor\": \"white\", \"linecolor\": \"white\", \"ticks\": \"\"}}, \"scene\": {\"xaxis\": {\"backgroundcolor\": \"#E5ECF6\", \"gridcolor\": \"white\", \"gridwidth\": 2, \"linecolor\": \"white\", \"showbackground\": true, \"ticks\": \"\", \"zerolinecolor\": \"white\"}, \"yaxis\": {\"backgroundcolor\": \"#E5ECF6\", \"gridcolor\": \"white\", \"gridwidth\": 2, \"linecolor\": \"white\", \"showbackground\": true, \"ticks\": \"\", \"zerolinecolor\": \"white\"}, \"zaxis\": {\"backgroundcolor\": \"#E5ECF6\", \"gridcolor\": \"white\", \"gridwidth\": 2, \"linecolor\": \"white\", \"showbackground\": true, \"ticks\": \"\", \"zerolinecolor\": \"white\"}}, \"shapedefaults\": {\"line\": {\"color\": \"#2a3f5f\"}}, \"ternary\": {\"aaxis\": {\"gridcolor\": \"white\", \"linecolor\": \"white\", \"ticks\": \"\"}, \"baxis\": {\"gridcolor\": \"white\", \"linecolor\": \"white\", \"ticks\": \"\"}, \"bgcolor\": \"#E5ECF6\", \"caxis\": {\"gridcolor\": \"white\", \"linecolor\": \"white\", \"ticks\": \"\"}}, \"title\": {\"x\": 0.05}, \"xaxis\": {\"automargin\": true, \"gridcolor\": \"white\", \"linecolor\": \"white\", \"ticks\": \"\", \"title\": {\"standoff\": 15}, \"zerolinecolor\": \"white\", \"zerolinewidth\": 2}, \"yaxis\": {\"automargin\": true, \"gridcolor\": \"white\", \"linecolor\": \"white\", \"ticks\": \"\", \"title\": {\"standoff\": 15}, \"zerolinecolor\": \"white\", \"zerolinewidth\": 2}}}},\n",
              "                        {\"responsive\": true}\n",
              "                    ).then(function(){\n",
              "                            \n",
              "var gd = document.getElementById('13e25aaf-54a9-424b-bff5-7e1b64c8f716');\n",
              "var x = new MutationObserver(function (mutations, observer) {{\n",
              "        var display = window.getComputedStyle(gd).display;\n",
              "        if (!display || display === 'none') {{\n",
              "            console.log([gd, 'removed!']);\n",
              "            Plotly.purge(gd);\n",
              "            observer.disconnect();\n",
              "        }}\n",
              "}});\n",
              "\n",
              "// Listen for the removal of the full notebook cells\n",
              "var notebookContainer = gd.closest('#notebook-container');\n",
              "if (notebookContainer) {{\n",
              "    x.observe(notebookContainer, {childList: true});\n",
              "}}\n",
              "\n",
              "// Listen for the clearing of the current output cell\n",
              "var outputEl = gd.closest('.output');\n",
              "if (outputEl) {{\n",
              "    x.observe(outputEl, {childList: true});\n",
              "}}\n",
              "\n",
              "                        })\n",
              "                };\n",
              "                });\n",
              "            </script>\n",
              "        </div>"
            ],
            "application/vnd.plotly.v1+json": {
              "data": [
                {
                  "y": [
                    0,
                    529,
                    239.93,
                    59,
                    1,
                    1,
                    1,
                    1,
                    1,
                    1,
                    1,
                    1,
                    1,
                    1,
                    1,
                    1,
                    1,
                    1,
                    1,
                    1,
                    1,
                    1.1,
                    1,
                    1,
                    1809.68,
                    1,
                    1,
                    1,
                    1,
                    1,
                    0,
                    30.39,
                    179.66,
                    1,
                    1,
                    1,
                    1,
                    1,
                    11.39,
                    3.79,
                    3.79,
                    3.93,
                    1,
                    766.36,
                    1218.89,
                    1,
                    188.78,
                    1,
                    1,
                    1,
                    1,
                    1,
                    1,
                    1,
                    1,
                    1,
                    3.12,
                    99.99,
                    99.99,
                    99.99,
                    3.76,
                    99.99,
                    99.99,
                    99.99,
                    99.99,
                    99.99,
                    99.99,
                    99.99,
                    99.99,
                    99.99,
                    99.99,
                    99.99,
                    99.99,
                    23.36,
                    99.99,
                    730.86,
                    99.99,
                    99.99,
                    99.99,
                    99.99,
                    99.99,
                    0.68,
                    0.68,
                    0.68,
                    30.3,
                    104.81,
                    0,
                    717.15,
                    19.02,
                    1.52,
                    18.96,
                    125.3,
                    19.02,
                    0.76,
                    60.6,
                    7.61,
                    1,
                    9.13,
                    4.56,
                    14.46,
                    111.7,
                    111.7,
                    12.31,
                    776.83,
                    1,
                    1,
                    1,
                    1,
                    0.76,
                    0.76,
                    112.33,
                    3.79,
                    340.11,
                    88.23,
                    5.3,
                    83.38,
                    11.38,
                    1.52,
                    88.23,
                    30.26,
                    459.07,
                    0,
                    118.3,
                    45.49,
                    173.07,
                    37.32,
                    59.68,
                    0.76,
                    9.99,
                    34.12,
                    273.01,
                    106.55,
                    364.19,
                    39.45,
                    53.95,
                    172.32,
                    802.52,
                    99.99,
                    139.9,
                    1,
                    1,
                    1,
                    1,
                    1,
                    648,
                    204.27,
                    88,
                    24.9,
                    1,
                    1,
                    1,
                    105.99,
                    1,
                    1,
                    1,
                    1,
                    0.76,
                    7.58,
                    0.76,
                    0.76,
                    208.58,
                    1,
                    19.73,
                    360,
                    99.99,
                    99.99,
                    99.99,
                    99.99,
                    99.99,
                    519.9,
                    0.76,
                    0.76,
                    1.18,
                    8,
                    0,
                    112.45,
                    261.87,
                    1.79,
                    1,
                    0.83,
                    0.83,
                    130.44,
                    311.91,
                    170.92,
                    153.46,
                    7.52,
                    1,
                    5,
                    0.01,
                    444.17,
                    1,
                    1,
                    1,
                    1.75,
                    5.09,
                    270,
                    113.92,
                    45.64,
                    1389.56,
                    18.98,
                    6.27,
                    319.2,
                    5.91,
                    454.82,
                    101.5,
                    19.04,
                    6.62,
                    180,
                    1,
                    1.1,
                    1402.16,
                    290.18,
                    294.9,
                    1,
                    0,
                    0,
                    720.38,
                    31.91,
                    1354.25,
                    98.01,
                    101.5,
                    7.53,
                    489.71,
                    549.06,
                    320,
                    1,
                    1,
                    1,
                    1,
                    1,
                    1,
                    19.59,
                    1,
                    227.3,
                    3.79,
                    318.11,
                    824.83,
                    0.76,
                    426.4,
                    238.9,
                    45.03,
                    16.48,
                    76.94,
                    311.28,
                    30.14,
                    29.95,
                    124.53,
                    99.85,
                    99.9,
                    219.8,
                    254.76,
                    1,
                    1,
                    1,
                    1,
                    129,
                    1,
                    1,
                    1,
                    106.9,
                    60,
                    0.2,
                    7.57,
                    1,
                    1,
                    0,
                    0,
                    512.25,
                    512.25,
                    12.31,
                    354.33,
                    2,
                    0,
                    0,
                    252.92,
                    252.92,
                    1,
                    240.77,
                    1,
                    310.42,
                    323.77,
                    451.27,
                    829.41,
                    1.18,
                    9.21,
                    6.99,
                    38.76,
                    52.69,
                    1,
                    1,
                    261.22,
                    18,
                    600.73,
                    1,
                    75.86,
                    8.54,
                    0.01,
                    44.9,
                    44.9,
                    316.06,
                    316.06,
                    209.65,
                    78,
                    78,
                    188.52,
                    188.52,
                    30.31,
                    30.31,
                    104.03,
                    104.03,
                    1,
                    1,
                    37.93,
                    97,
                    11.4,
                    45.48,
                    1,
                    1,
                    1,
                    1,
                    1,
                    33.76,
                    571.48,
                    1.63,
                    1.63,
                    18.96,
                    33.59,
                    1,
                    8.64,
                    9.82,
                    2.28,
                    1,
                    0.76,
                    1,
                    0.92,
                    2.28,
                    147.87,
                    0,
                    22.04,
                    0,
                    104,
                    2.28,
                    0.01,
                    1,
                    346.94,
                    7.59,
                    0,
                    0,
                    119.74,
                    2.27,
                    0,
                    186.13,
                    1,
                    0.76,
                    80.22,
                    635.1,
                    17.06,
                    65,
                    105.89,
                    105.89,
                    144.62,
                    2125.87,
                    11,
                    45.51,
                    40,
                    3.22,
                    0,
                    25,
                    67.9,
                    93.35,
                    1,
                    175.9,
                    720.8,
                    7.18,
                    4.87,
                    80.9,
                    0,
                    2,
                    1,
                    362.55,
                    276.17,
                    723.21,
                    480.72,
                    1,
                    1335,
                    0,
                    130.21,
                    1,
                    925.31,
                    0,
                    345,
                    108.51,
                    84.28,
                    39.45,
                    0.01,
                    727.91,
                    22.47,
                    8.3,
                    120.54,
                    0.69,
                    723.21,
                    0.77,
                    592.9,
                    195.66,
                    4.49,
                    0.76,
                    324.59,
                    320.01,
                    2,
                    144.8,
                    0,
                    1,
                    1,
                    8.9,
                    1,
                    667.55,
                    0,
                    1.18,
                    2.22,
                    0.77,
                    94.82,
                    8,
                    996.27,
                    0,
                    1.59,
                    1.59,
                    0,
                    0.76,
                    0.76,
                    122.68,
                    0,
                    1,
                    1.1,
                    2,
                    17.39,
                    50,
                    237.26,
                    1,
                    9.29,
                    10.7,
                    0.01,
                    57.73,
                    1,
                    1,
                    1,
                    1,
                    1,
                    2.47,
                    357.95,
                    247.86,
                    51.37,
                    0,
                    0.76,
                    1504.93,
                    1096.99,
                    35,
                    6.74,
                    0.77,
                    0.77,
                    0.77,
                    3.9,
                    3.14,
                    7.06,
                    94.82,
                    0.77,
                    0.77,
                    187.11,
                    7.59,
                    4.97,
                    0.77,
                    296,
                    45.51,
                    4.9,
                    156,
                    4.69,
                    0.77,
                    1,
                    0.77,
                    127.14,
                    0.38,
                    39.98,
                    12.31,
                    0,
                    39.9,
                    634.3,
                    19.95,
                    349.08,
                    390,
                    0.76,
                    77.89,
                    245,
                    42.53
                  ],
                  "x": [
                    406,
                    472,
                    4462,
                    6986,
                    7519,
                    7526,
                    7535,
                    7543,
                    7551,
                    7610,
                    7672,
                    7740,
                    7891,
                    8090,
                    8169,
                    8408,
                    8415,
                    8451,
                    8528,
                    8614,
                    8757,
                    8808,
                    8878,
                    8886,
                    9064,
                    11080,
                    11092,
                    11131,
                    11629,
                    11635,
                    12093,
                    12095,
                    12393,
                    12597,
                    13126,
                    13323,
                    14073,
                    14152,
                    15817,
                    17187,
                    17220,
                    17230,
                    17520,
                    17838,
                    18088,
                    18399,
                    18675,
                    18690,
                    19762,
                    20011,
                    20332,
                    20451,
                    20931,
                    21046,
                    21419,
                    21662,
                    25095,
                    25198,
                    25231,
                    25254,
                    25426,
                    26523,
                    26556,
                    26585,
                    26833,
                    26863,
                    26899,
                    26931,
                    26961,
                    27163,
                    27187,
                    27219,
                    27252,
                    27784,
                    28143,
                    28242,
                    28625,
                    28658,
                    28692,
                    28726,
                    28755,
                    29526,
                    29531,
                    29753,
                    29785,
                    30852,
                    32686,
                    32745,
                    34256,
                    34521,
                    34634,
                    34684,
                    34687,
                    35585,
                    35771,
                    35866,
                    35899,
                    35906,
                    35926,
                    35942,
                    35953,
                    36170,
                    37167,
                    39729,
                    40086,
                    40276,
                    40662,
                    40742,
                    40892,
                    40918,
                    40919,
                    41116,
                    41138,
                    41147,
                    41164,
                    41170,
                    41181,
                    41194,
                    41203,
                    41204,
                    41227,
                    41233,
                    41237,
                    41243,
                    41273,
                    41285,
                    41305,
                    41308,
                    41313,
                    41353,
                    41397,
                    41413,
                    41505,
                    41582,
                    41607,
                    41646,
                    41743,
                    41791,
                    41851,
                    41870,
                    41991,
                    42247,
                    42474,
                    42985,
                    42988,
                    43028,
                    43369,
                    43494,
                    44393,
                    44532,
                    45463,
                    45501,
                    45541,
                    46057,
                    46149,
                    46925,
                    47545,
                    47826,
                    47923,
                    47982,
                    48380,
                    48533,
                    48884,
                    49985,
                    50706,
                    50808,
                    51112,
                    51135,
                    51155,
                    52814,
                    52934,
                    53031,
                    53076,
                    53451,
                    53658,
                    53727,
                    53937,
                    54846,
                    55279,
                    55311,
                    55614,
                    55618,
                    55760,
                    56098,
                    56624,
                    56650,
                    56806,
                    56887,
                    57007,
                    57027,
                    57163,
                    58060,
                    58067,
                    58199,
                    58217,
                    58222,
                    58642,
                    58822,
                    59011,
                    59385,
                    59669,
                    59777,
                    59840,
                    60353,
                    61108,
                    61646,
                    62059,
                    62080,
                    62330,
                    62341,
                    62467,
                    63578,
                    64093,
                    64412,
                    64443,
                    64585,
                    64785,
                    65358,
                    65385,
                    65728,
                    65936,
                    66037,
                    67150,
                    67571,
                    67857,
                    68207,
                    68207,
                    68207,
                    68207,
                    68207,
                    68207,
                    68357,
                    69394,
                    70071,
                    70229,
                    70270,
                    70536,
                    70828,
                    71033,
                    72327,
                    72824,
                    73408,
                    74159,
                    74262,
                    75033,
                    75556,
                    75581,
                    75851,
                    75978,
                    76575,
                    76826,
                    76845,
                    76857,
                    76867,
                    76876,
                    77154,
                    77171,
                    77182,
                    77202,
                    77627,
                    78725,
                    79540,
                    81372,
                    82289,
                    83934,
                    84204,
                    84204,
                    84204,
                    84204,
                    84694,
                    84789,
                    85181,
                    85285,
                    85285,
                    85285,
                    85285,
                    85573,
                    85576,
                    85864,
                    85867,
                    86376,
                    87202,
                    87883,
                    88672,
                    88737,
                    90676,
                    91075,
                    91407,
                    91502,
                    91524,
                    91554,
                    92092,
                    92102,
                    93742,
                    93823,
                    93824,
                    93834,
                    93853,
                    93853,
                    93853,
                    93853,
                    93856,
                    93860,
                    93860,
                    93860,
                    93860,
                    93879,
                    93879,
                    93879,
                    93879,
                    93888,
                    93897,
                    93904,
                    93920,
                    93965,
                    94141,
                    94362,
                    94362,
                    94362,
                    94362,
                    94364,
                    94625,
                    94952,
                    95559,
                    95628,
                    96135,
                    96291,
                    96717,
                    97121,
                    97235,
                    100223,
                    100298,
                    100501,
                    100924,
                    101051,
                    101313,
                    101597,
                    102114,
                    102318,
                    102480,
                    102489,
                    102542,
                    102572,
                    102619,
                    102622,
                    102625,
                    102669,
                    102671,
                    102676,
                    103808,
                    109297,
                    109298,
                    110087,
                    110547,
                    110552,
                    110617,
                    115691,
                    116067,
                    118532,
                    118603,
                    121238,
                    122608,
                    123078,
                    123525,
                    125200,
                    125612,
                    125658,
                    126219,
                    128471,
                    128519,
                    128595,
                    128803,
                    129095,
                    129186,
                    129222,
                    129308,
                    129371,
                    129668,
                    129741,
                    129764,
                    129808,
                    131024,
                    132086,
                    132688,
                    133184,
                    133731,
                    133958,
                    134766,
                    134769,
                    134928,
                    135095,
                    135102,
                    135314,
                    137211,
                    138894,
                    138942,
                    139107,
                    139117,
                    139767,
                    139816,
                    139951,
                    140293,
                    140308,
                    141320,
                    141565,
                    141925,
                    142280,
                    142394,
                    142409,
                    142840,
                    142961,
                    143354,
                    143434,
                    143438,
                    143456,
                    144808,
                    144839,
                    146022,
                    146026,
                    146179,
                    146344,
                    146998,
                    147501,
                    148028,
                    148053,
                    148053,
                    148074,
                    148468,
                    148476,
                    148479,
                    149096,
                    149236,
                    149582,
                    149640,
                    149676,
                    150138,
                    150139,
                    150494,
                    150949,
                    151029,
                    151916,
                    151972,
                    152036,
                    152058,
                    152098,
                    152165,
                    152307,
                    152710,
                    152802,
                    153653,
                    153761,
                    153875,
                    154181,
                    154278,
                    154309,
                    154493,
                    154599,
                    154657,
                    155054,
                    155359,
                    155535,
                    155542,
                    155548,
                    155554,
                    155662,
                    155965,
                    156685,
                    156710,
                    157207,
                    157284,
                    158638,
                    159844,
                    160034,
                    160243,
                    160537,
                    160665,
                    160791,
                    160870,
                    160895,
                    161154,
                    163181,
                    165132,
                    165981,
                    166028,
                    166831,
                    166883,
                    167338,
                    169142,
                    169347,
                    169351,
                    169966,
                    170348
                  ],
                  "type": "scatter",
                  "mode": "markers"
                }
              ],
              "config": {
                "plotlyServerURL": "https://plot.ly",
                "linkText": "Export to plot.ly",
                "showLink": false
              },
              "layout": {
                "template": {
                  "layout": {
                    "shapedefaults": {
                      "line": {
                        "color": "#2a3f5f"
                      }
                    },
                    "polar": {
                      "radialaxis": {
                        "ticks": "",
                        "gridcolor": "white",
                        "linecolor": "white"
                      },
                      "bgcolor": "#E5ECF6",
                      "angularaxis": {
                        "ticks": "",
                        "gridcolor": "white",
                        "linecolor": "white"
                      }
                    },
                    "colorway": [
                      "#636efa",
                      "#EF553B",
                      "#00cc96",
                      "#ab63fa",
                      "#FFA15A",
                      "#19d3f3",
                      "#FF6692",
                      "#B6E880",
                      "#FF97FF",
                      "#FECB52"
                    ],
                    "xaxis": {
                      "automargin": true,
                      "title": {
                        "standoff": 15
                      },
                      "zerolinewidth": 2,
                      "ticks": "",
                      "zerolinecolor": "white",
                      "gridcolor": "white",
                      "linecolor": "white"
                    },
                    "colorscale": {
                      "diverging": [
                        [
                          0,
                          "#8e0152"
                        ],
                        [
                          0.1,
                          "#c51b7d"
                        ],
                        [
                          0.2,
                          "#de77ae"
                        ],
                        [
                          0.3,
                          "#f1b6da"
                        ],
                        [
                          0.4,
                          "#fde0ef"
                        ],
                        [
                          0.5,
                          "#f7f7f7"
                        ],
                        [
                          0.6,
                          "#e6f5d0"
                        ],
                        [
                          0.7,
                          "#b8e186"
                        ],
                        [
                          0.8,
                          "#7fbc41"
                        ],
                        [
                          0.9,
                          "#4d9221"
                        ],
                        [
                          1,
                          "#276419"
                        ]
                      ],
                      "sequential": [
                        [
                          0,
                          "#0d0887"
                        ],
                        [
                          0.1111111111111111,
                          "#46039f"
                        ],
                        [
                          0.2222222222222222,
                          "#7201a8"
                        ],
                        [
                          0.3333333333333333,
                          "#9c179e"
                        ],
                        [
                          0.4444444444444444,
                          "#bd3786"
                        ],
                        [
                          0.5555555555555556,
                          "#d8576b"
                        ],
                        [
                          0.6666666666666666,
                          "#ed7953"
                        ],
                        [
                          0.7777777777777778,
                          "#fb9f3a"
                        ],
                        [
                          0.8888888888888888,
                          "#fdca26"
                        ],
                        [
                          1,
                          "#f0f921"
                        ]
                      ],
                      "sequentialminus": [
                        [
                          0,
                          "#0d0887"
                        ],
                        [
                          0.1111111111111111,
                          "#46039f"
                        ],
                        [
                          0.2222222222222222,
                          "#7201a8"
                        ],
                        [
                          0.3333333333333333,
                          "#9c179e"
                        ],
                        [
                          0.4444444444444444,
                          "#bd3786"
                        ],
                        [
                          0.5555555555555556,
                          "#d8576b"
                        ],
                        [
                          0.6666666666666666,
                          "#ed7953"
                        ],
                        [
                          0.7777777777777778,
                          "#fb9f3a"
                        ],
                        [
                          0.8888888888888888,
                          "#fdca26"
                        ],
                        [
                          1,
                          "#f0f921"
                        ]
                      ]
                    },
                    "paper_bgcolor": "white",
                    "plot_bgcolor": "#E5ECF6",
                    "title": {
                      "x": 0.05
                    },
                    "scene": {
                      "zaxis": {
                        "backgroundcolor": "#E5ECF6",
                        "ticks": "",
                        "gridwidth": 2,
                        "showbackground": true,
                        "zerolinecolor": "white",
                        "gridcolor": "white",
                        "linecolor": "white"
                      },
                      "xaxis": {
                        "backgroundcolor": "#E5ECF6",
                        "ticks": "",
                        "gridwidth": 2,
                        "showbackground": true,
                        "zerolinecolor": "white",
                        "gridcolor": "white",
                        "linecolor": "white"
                      },
                      "yaxis": {
                        "backgroundcolor": "#E5ECF6",
                        "ticks": "",
                        "gridwidth": 2,
                        "showbackground": true,
                        "zerolinecolor": "white",
                        "gridcolor": "white",
                        "linecolor": "white"
                      }
                    },
                    "yaxis": {
                      "automargin": true,
                      "title": {
                        "standoff": 15
                      },
                      "zerolinewidth": 2,
                      "ticks": "",
                      "zerolinecolor": "white",
                      "gridcolor": "white",
                      "linecolor": "white"
                    },
                    "annotationdefaults": {
                      "arrowwidth": 1,
                      "arrowhead": 0,
                      "arrowcolor": "#2a3f5f"
                    },
                    "hoverlabel": {
                      "align": "left"
                    },
                    "ternary": {
                      "bgcolor": "#E5ECF6",
                      "baxis": {
                        "ticks": "",
                        "gridcolor": "white",
                        "linecolor": "white"
                      },
                      "caxis": {
                        "ticks": "",
                        "gridcolor": "white",
                        "linecolor": "white"
                      },
                      "aaxis": {
                        "ticks": "",
                        "gridcolor": "white",
                        "linecolor": "white"
                      }
                    },
                    "mapbox": {
                      "style": "light"
                    },
                    "hovermode": "closest",
                    "font": {
                      "color": "#2a3f5f"
                    },
                    "geo": {
                      "showland": true,
                      "landcolor": "#E5ECF6",
                      "showlakes": true,
                      "bgcolor": "white",
                      "subunitcolor": "white",
                      "lakecolor": "white"
                    },
                    "coloraxis": {
                      "colorbar": {
                        "outlinewidth": 0,
                        "ticks": ""
                      }
                    }
                  },
                  "data": {
                    "mesh3d": [
                      {
                        "colorbar": {
                          "outlinewidth": 0,
                          "ticks": ""
                        },
                        "type": "mesh3d"
                      }
                    ],
                    "scattercarpet": [
                      {
                        "marker": {
                          "colorbar": {
                            "outlinewidth": 0,
                            "ticks": ""
                          }
                        },
                        "type": "scattercarpet"
                      }
                    ],
                    "pie": [
                      {
                        "automargin": true,
                        "type": "pie"
                      }
                    ],
                    "surface": [
                      {
                        "colorbar": {
                          "outlinewidth": 0,
                          "ticks": ""
                        },
                        "type": "surface",
                        "colorscale": [
                          [
                            0,
                            "#0d0887"
                          ],
                          [
                            0.1111111111111111,
                            "#46039f"
                          ],
                          [
                            0.2222222222222222,
                            "#7201a8"
                          ],
                          [
                            0.3333333333333333,
                            "#9c179e"
                          ],
                          [
                            0.4444444444444444,
                            "#bd3786"
                          ],
                          [
                            0.5555555555555556,
                            "#d8576b"
                          ],
                          [
                            0.6666666666666666,
                            "#ed7953"
                          ],
                          [
                            0.7777777777777778,
                            "#fb9f3a"
                          ],
                          [
                            0.8888888888888888,
                            "#fdca26"
                          ],
                          [
                            1,
                            "#f0f921"
                          ]
                        ]
                      }
                    ],
                    "table": [
                      {
                        "header": {
                          "line": {
                            "color": "white"
                          },
                          "fill": {
                            "color": "#C8D4E3"
                          }
                        },
                        "cells": {
                          "line": {
                            "color": "white"
                          },
                          "fill": {
                            "color": "#EBF0F8"
                          }
                        },
                        "type": "table"
                      }
                    ],
                    "scatterpolargl": [
                      {
                        "marker": {
                          "colorbar": {
                            "outlinewidth": 0,
                            "ticks": ""
                          }
                        },
                        "type": "scatterpolargl"
                      }
                    ],
                    "contour": [
                      {
                        "colorbar": {
                          "outlinewidth": 0,
                          "ticks": ""
                        },
                        "type": "contour",
                        "colorscale": [
                          [
                            0,
                            "#0d0887"
                          ],
                          [
                            0.1111111111111111,
                            "#46039f"
                          ],
                          [
                            0.2222222222222222,
                            "#7201a8"
                          ],
                          [
                            0.3333333333333333,
                            "#9c179e"
                          ],
                          [
                            0.4444444444444444,
                            "#bd3786"
                          ],
                          [
                            0.5555555555555556,
                            "#d8576b"
                          ],
                          [
                            0.6666666666666666,
                            "#ed7953"
                          ],
                          [
                            0.7777777777777778,
                            "#fb9f3a"
                          ],
                          [
                            0.8888888888888888,
                            "#fdca26"
                          ],
                          [
                            1,
                            "#f0f921"
                          ]
                        ]
                      }
                    ],
                    "carpet": [
                      {
                        "type": "carpet",
                        "baxis": {
                          "minorgridcolor": "white",
                          "gridcolor": "white",
                          "linecolor": "white",
                          "endlinecolor": "#2a3f5f",
                          "startlinecolor": "#2a3f5f"
                        },
                        "aaxis": {
                          "minorgridcolor": "white",
                          "gridcolor": "white",
                          "linecolor": "white",
                          "endlinecolor": "#2a3f5f",
                          "startlinecolor": "#2a3f5f"
                        }
                      }
                    ],
                    "contourcarpet": [
                      {
                        "colorbar": {
                          "outlinewidth": 0,
                          "ticks": ""
                        },
                        "type": "contourcarpet"
                      }
                    ],
                    "heatmap": [
                      {
                        "colorbar": {
                          "outlinewidth": 0,
                          "ticks": ""
                        },
                        "type": "heatmap",
                        "colorscale": [
                          [
                            0,
                            "#0d0887"
                          ],
                          [
                            0.1111111111111111,
                            "#46039f"
                          ],
                          [
                            0.2222222222222222,
                            "#7201a8"
                          ],
                          [
                            0.3333333333333333,
                            "#9c179e"
                          ],
                          [
                            0.4444444444444444,
                            "#bd3786"
                          ],
                          [
                            0.5555555555555556,
                            "#d8576b"
                          ],
                          [
                            0.6666666666666666,
                            "#ed7953"
                          ],
                          [
                            0.7777777777777778,
                            "#fb9f3a"
                          ],
                          [
                            0.8888888888888888,
                            "#fdca26"
                          ],
                          [
                            1,
                            "#f0f921"
                          ]
                        ]
                      }
                    ],
                    "scattermapbox": [
                      {
                        "marker": {
                          "colorbar": {
                            "outlinewidth": 0,
                            "ticks": ""
                          }
                        },
                        "type": "scattermapbox"
                      }
                    ],
                    "scatter3d": [
                      {
                        "marker": {
                          "colorbar": {
                            "outlinewidth": 0,
                            "ticks": ""
                          }
                        },
                        "line": {
                          "colorbar": {
                            "outlinewidth": 0,
                            "ticks": ""
                          }
                        },
                        "type": "scatter3d"
                      }
                    ],
                    "scattergl": [
                      {
                        "marker": {
                          "colorbar": {
                            "outlinewidth": 0,
                            "ticks": ""
                          }
                        },
                        "type": "scattergl"
                      }
                    ],
                    "scatterternary": [
                      {
                        "marker": {
                          "colorbar": {
                            "outlinewidth": 0,
                            "ticks": ""
                          }
                        },
                        "type": "scatterternary"
                      }
                    ],
                    "histogram": [
                      {
                        "marker": {
                          "colorbar": {
                            "outlinewidth": 0,
                            "ticks": ""
                          }
                        },
                        "type": "histogram"
                      }
                    ],
                    "heatmapgl": [
                      {
                        "colorbar": {
                          "outlinewidth": 0,
                          "ticks": ""
                        },
                        "type": "heatmapgl",
                        "colorscale": [
                          [
                            0,
                            "#0d0887"
                          ],
                          [
                            0.1111111111111111,
                            "#46039f"
                          ],
                          [
                            0.2222222222222222,
                            "#7201a8"
                          ],
                          [
                            0.3333333333333333,
                            "#9c179e"
                          ],
                          [
                            0.4444444444444444,
                            "#bd3786"
                          ],
                          [
                            0.5555555555555556,
                            "#d8576b"
                          ],
                          [
                            0.6666666666666666,
                            "#ed7953"
                          ],
                          [
                            0.7777777777777778,
                            "#fb9f3a"
                          ],
                          [
                            0.8888888888888888,
                            "#fdca26"
                          ],
                          [
                            1,
                            "#f0f921"
                          ]
                        ]
                      }
                    ],
                    "scatterpolar": [
                      {
                        "marker": {
                          "colorbar": {
                            "outlinewidth": 0,
                            "ticks": ""
                          }
                        },
                        "type": "scatterpolar"
                      }
                    ],
                    "histogram2d": [
                      {
                        "colorbar": {
                          "outlinewidth": 0,
                          "ticks": ""
                        },
                        "type": "histogram2d",
                        "colorscale": [
                          [
                            0,
                            "#0d0887"
                          ],
                          [
                            0.1111111111111111,
                            "#46039f"
                          ],
                          [
                            0.2222222222222222,
                            "#7201a8"
                          ],
                          [
                            0.3333333333333333,
                            "#9c179e"
                          ],
                          [
                            0.4444444444444444,
                            "#bd3786"
                          ],
                          [
                            0.5555555555555556,
                            "#d8576b"
                          ],
                          [
                            0.6666666666666666,
                            "#ed7953"
                          ],
                          [
                            0.7777777777777778,
                            "#fb9f3a"
                          ],
                          [
                            0.8888888888888888,
                            "#fdca26"
                          ],
                          [
                            1,
                            "#f0f921"
                          ]
                        ]
                      }
                    ],
                    "scattergeo": [
                      {
                        "marker": {
                          "colorbar": {
                            "outlinewidth": 0,
                            "ticks": ""
                          }
                        },
                        "type": "scattergeo"
                      }
                    ],
                    "bar": [
                      {
                        "marker": {
                          "line": {
                            "color": "#E5ECF6",
                            "width": 0.5
                          }
                        },
                        "type": "bar",
                        "error_x": {
                          "color": "#2a3f5f"
                        },
                        "error_y": {
                          "color": "#2a3f5f"
                        }
                      }
                    ],
                    "choropleth": [
                      {
                        "colorbar": {
                          "outlinewidth": 0,
                          "ticks": ""
                        },
                        "type": "choropleth"
                      }
                    ],
                    "parcoords": [
                      {
                        "line": {
                          "colorbar": {
                            "outlinewidth": 0,
                            "ticks": ""
                          }
                        },
                        "type": "parcoords"
                      }
                    ],
                    "barpolar": [
                      {
                        "marker": {
                          "line": {
                            "color": "#E5ECF6",
                            "width": 0.5
                          }
                        },
                        "type": "barpolar"
                      }
                    ],
                    "histogram2dcontour": [
                      {
                        "colorbar": {
                          "outlinewidth": 0,
                          "ticks": ""
                        },
                        "type": "histogram2dcontour",
                        "colorscale": [
                          [
                            0,
                            "#0d0887"
                          ],
                          [
                            0.1111111111111111,
                            "#46039f"
                          ],
                          [
                            0.2222222222222222,
                            "#7201a8"
                          ],
                          [
                            0.3333333333333333,
                            "#9c179e"
                          ],
                          [
                            0.4444444444444444,
                            "#bd3786"
                          ],
                          [
                            0.5555555555555556,
                            "#d8576b"
                          ],
                          [
                            0.6666666666666666,
                            "#ed7953"
                          ],
                          [
                            0.7777777777777778,
                            "#fb9f3a"
                          ],
                          [
                            0.8888888888888888,
                            "#fdca26"
                          ],
                          [
                            1,
                            "#f0f921"
                          ]
                        ]
                      }
                    ],
                    "scatter": [
                      {
                        "marker": {
                          "colorbar": {
                            "outlinewidth": 0,
                            "ticks": ""
                          }
                        },
                        "type": "scatter"
                      }
                    ]
                  }
                }
              }
            }
          },
          "metadata": {
            "tags": []
          }
        }
      ]
    },
    {
      "cell_type": "code",
      "metadata": {
        "id": "b_N3q6105S_Y",
        "colab_type": "code",
        "colab": {
          "base_uri": "https://localhost:8080/",
          "height": 34
        },
        "outputId": "315fac6a-f864-4d4c-c6f5-58c427d0d1ef"
      },
      "source": [
        "data1.shape"
      ],
      "execution_count": 26,
      "outputs": [
        {
          "output_type": "execute_result",
          "data": {
            "text/plain": [
              "(28481, 31)"
            ]
          },
          "metadata": {
            "tags": []
          },
          "execution_count": 26
        }
      ]
    },
    {
      "cell_type": "code",
      "metadata": {
        "id": "qVL9ANa_5WZH",
        "colab_type": "code",
        "colab": {
          "base_uri": "https://localhost:8080/",
          "height": 1000
        },
        "outputId": "7cec2c5e-5c28-4d5b-e345-7f5a67476091"
      },
      "source": [
        "data1.hist(figsize=(20,20))\n",
        "plt.show()"
      ],
      "execution_count": 27,
      "outputs": [
        {
          "output_type": "display_data",
          "data": {
            "image/png": "[encoded data removed]",
            "text/plain": [
              "<Figure size 1440x1440 with 36 Axes>"
            ]
          },
          "metadata": {
            "tags": [],
            "needs_background": "light"
          }
        }
      ]
    },
    {
      "cell_type": "markdown",
      "metadata": {
        "id": "wa1h0S-R5dd-",
        "colab_type": "text"
      },
      "source": [
        "# Determine the number of fraud and valid transactions in the dataset."
      ]
    },
    {
      "cell_type": "code",
      "metadata": {
        "id": "CloX5cnZ5YPV",
        "colab_type": "code",
        "colab": {}
      },
      "source": [
        "Fraud = data1[data1['Class']==1]\n",
        "Valid = data1[data1['Class']==0]\n",
        "outlier_fraction = len(Fraud)/float(len(Valid))"
      ],
      "execution_count": 0,
      "outputs": []
    },
    {
      "cell_type": "markdown",
      "metadata": {
        "id": "WY7IOG705jut",
        "colab_type": "text"
      },
      "source": [
        "# Print the outlier fraction and no of Fraud and Valid Transaction cases"
      ]
    },
    {
      "cell_type": "code",
      "metadata": {
        "id": "ksaHGbqM5a0q",
        "colab_type": "code",
        "colab": {
          "base_uri": "https://localhost:8080/",
          "height": 70
        },
        "outputId": "0b7029d2-9d4e-407d-f9ff-72007e75313f"
      },
      "source": [
        "print(outlier_fraction)\n",
        "print(\"Fraud Cases : {}\".format(len(Fraud)))\n",
        "print(\"Valid Cases : {}\".format(len(Valid)))"
      ],
      "execution_count": 29,
      "outputs": [
        {
          "output_type": "stream",
          "text": [
            "0.0017234102419808666\n",
            "Fraud Cases : 49\n",
            "Valid Cases : 28432\n"
          ],
          "name": "stdout"
        }
      ]
    },
    {
      "cell_type": "code",
      "metadata": {
        "id": "wl-7v8b55mmX",
        "colab_type": "code",
        "colab": {
          "base_uri": "https://localhost:8080/",
          "height": 570
        },
        "outputId": "cce04631-1d03-4f3f-d338-3dc64f12cfd1"
      },
      "source": [
        "correlation_matrix = data1.corr()\n",
        "fig = plt.figure(figsize=(12,9))\n",
        "sns.heatmap(correlation_matrix,vmax=0.8,square = True)\n",
        "plt.show()"
      ],
      "execution_count": 30,
      "outputs": [
        {
          "output_type": "display_data",
          "data": {
            "image/png": "[encoded data removed]",
            "text/plain": [
              "<Figure size 864x648 with 2 Axes>"
            ]
          },
          "metadata": {
            "tags": [],
            "needs_background": "light"
          }
        }
      ]
    },
    {
      "cell_type": "code",
      "metadata": {
        "id": "3XOdUy-C5pQC",
        "colab_type": "code",
        "colab": {
          "base_uri": "https://localhost:8080/",
          "height": 52
        },
        "outputId": "2b992c9f-bf0b-4f82-be33-e627853341ff"
      },
      "source": [
        "columns = data1.columns.tolist()\n",
        "# Filter the columns to remove data we do not want \n",
        "columns = [c for c in columns if c not in [\"Class\"]]\n",
        "# Store the variable we are predicting \n",
        "target = \"Class\"\n",
        "# Define a random state \n",
        "state = np.random.RandomState(42)\n",
        "X = data1[columns]\n",
        "Y = data1[target]\n",
        "X_outliers = state.uniform(low=0, high=1, size=(X.shape[0], X.shape[1]))\n",
        "# Print the shapes of X & Y\n",
        "print(X.shape)\n",
        "print(Y.shape)"
      ],
      "execution_count": 31,
      "outputs": [
        {
          "output_type": "stream",
          "text": [
            "(28481, 30)\n",
            "(28481,)\n"
          ],
          "name": "stdout"
        }
      ]
    },
    {
      "cell_type": "markdown",
      "metadata": {
        "id": "mHTbv-Ff5wmN",
        "colab_type": "text"
      },
      "source": [
        "## Define the outlier detection methods"
      ]
    },
    {
      "cell_type": "code",
      "metadata": {
        "id": "z_ppnm5B5tSn",
        "colab_type": "code",
        "colab": {}
      },
      "source": [
        "classifiers = {\n",
        "    \"Isolation Forest\":IsolationForest(n_estimators=100, max_samples=len(X), \n",
        "                                       contamination=outlier_fraction,random_state=state, verbose=0),\n",
        "               \n",
        "    \"Local Outlier Factor\":LocalOutlierFactor(n_neighbors=20, algorithm='auto', \n",
        "                                              leaf_size=30, metric='minkowski',\n",
        "                                              p=2, metric_params=None, contamination=outlier_fraction),\n",
        "               \n",
        "    \"Support Vector Machine\":OneClassSVM(kernel='rbf', degree=3, gamma=0.1,nu=0.05, \n",
        "                                         max_iter=-1)\n",
        "   \n",
        "}"
      ],
      "execution_count": 0,
      "outputs": []
    },
    {
      "cell_type": "markdown",
      "metadata": {
        "id": "m0mcZnA854al",
        "colab_type": "text"
      },
      "source": [
        "# Fit model"
      ]
    },
    {
      "cell_type": "code",
      "metadata": {
        "id": "_Y2qGPr-50Yq",
        "colab_type": "code",
        "colab": {
          "base_uri": "https://localhost:8080/",
          "height": 710
        },
        "outputId": "a171fade-2159-4dfb-fe35-c87c94b0ba68"
      },
      "source": [
        "n_outliers = len(Fraud)\n",
        "for i, (clf_name,clf) in enumerate(classifiers.items()):\n",
        "    #Fit the data and tag outliers\n",
        "    if clf_name == \"Local Outlier Factor\":\n",
        "        y_pred = clf.fit_predict(X)\n",
        "        scores_prediction = clf.negative_outlier_factor_\n",
        "    elif clf_name == \"Support Vector Machine\":\n",
        "        clf.fit(X)\n",
        "        y_pred = clf.predict(X)\n",
        "    else:    \n",
        "        clf.fit(X)\n",
        "        scores_prediction = clf.decision_function(X)\n",
        "        y_pred = clf.predict(X)\n",
        "    #Reshape the prediction values to 0 for Valid transactions , 1 for Fraud transactions\n",
        "    y_pred[y_pred == 1] = 0\n",
        "    y_pred[y_pred == -1] = 1\n",
        "    n_errors = (y_pred != Y).sum()\n",
        "    # Run Classification Metrics\n",
        "    print(\"{}: {}\".format(clf_name,n_errors))\n",
        "    print(\"Accuracy Score :\")\n",
        "    print(accuracy_score(Y,y_pred))\n",
        "    print(\"Classification Report :\")\n",
        "    print(classification_report(Y,y_pred))"
      ],
      "execution_count": 35,
      "outputs": [
        {
          "output_type": "stream",
          "text": [
            "Isolation Forest: 73\n",
            "Accuracy Score :\n",
            "0.9974368877497279\n",
            "Classification Report :\n",
            "              precision    recall  f1-score   support\n",
            "\n",
            "           0       1.00      1.00      1.00     28432\n",
            "           1       0.26      0.27      0.26        49\n",
            "\n",
            "    accuracy                           1.00     28481\n",
            "   macro avg       0.63      0.63      0.63     28481\n",
            "weighted avg       1.00      1.00      1.00     28481\n",
            "\n",
            "Local Outlier Factor: 97\n",
            "Accuracy Score :\n",
            "0.9965942207085425\n",
            "Classification Report :\n",
            "              precision    recall  f1-score   support\n",
            "\n",
            "           0       1.00      1.00      1.00     28432\n",
            "           1       0.02      0.02      0.02        49\n",
            "\n",
            "    accuracy                           1.00     28481\n",
            "   macro avg       0.51      0.51      0.51     28481\n",
            "weighted avg       1.00      1.00      1.00     28481\n",
            "\n",
            "Support Vector Machine: 8516\n",
            "Accuracy Score :\n",
            "0.7009936448860644\n",
            "Classification Report :\n",
            "              precision    recall  f1-score   support\n",
            "\n",
            "           0       1.00      0.70      0.82     28432\n",
            "           1       0.00      0.37      0.00        49\n",
            "\n",
            "    accuracy                           0.70     28481\n",
            "   macro avg       0.50      0.53      0.41     28481\n",
            "weighted avg       1.00      0.70      0.82     28481\n",
            "\n"
          ],
          "name": "stdout"
        }
      ]
    },
    {
      "cell_type": "code",
      "metadata": {
        "id": "5pXMZ47R8Qyr",
        "colab_type": "code",
        "colab": {}
      },
      "source": [
        ""
      ],
      "execution_count": 0,
      "outputs": []
    }
  ]
}